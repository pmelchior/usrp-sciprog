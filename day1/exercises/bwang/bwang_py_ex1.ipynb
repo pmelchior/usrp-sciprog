{
 "metadata": {
  "name": "",
  "signature": "sha256:63a11b6fdaf1b4e53ae71c35bc7d12d68ea6ded393c1d3c8364af3878b305ed6"
 },
 "nbformat": 3,
 "nbformat_minor": 0,
 "worksheets": [
  {
   "cells": [
    {
     "cell_type": "code",
     "collapsed": false,
     "input": [
      "from __future__ import division"
     ],
     "language": "python",
     "metadata": {},
     "outputs": [],
     "prompt_number": 3
    },
    {
     "cell_type": "code",
     "collapsed": false,
     "input": [
      "import hello"
     ],
     "language": "python",
     "metadata": {},
     "outputs": [],
     "prompt_number": 1
    },
    {
     "cell_type": "code",
     "collapsed": false,
     "input": [
      "hello.hello()"
     ],
     "language": "python",
     "metadata": {},
     "outputs": [
      {
       "output_type": "stream",
       "stream": "stdout",
       "text": [
        "Hello world!\n"
       ]
      }
     ],
     "prompt_number": 2
    },
    {
     "cell_type": "code",
     "collapsed": false,
     "input": [
      "s  = 'foo'\n",
      "s += 'bar'"
     ],
     "language": "python",
     "metadata": {},
     "outputs": [],
     "prompt_number": 3
    },
    {
     "cell_type": "markdown",
     "metadata": {},
     "source": [
      "# return to this one later =-=\n",
      "\n",
      "inputwd = raw_input('Enter a word:')\n",
      "while inputwd is not in ['.', '!', '?']:\n",
      "    do sth\n"
     ]
    },
    {
     "cell_type": "markdown",
     "metadata": {},
     "source": [
      "Write a program that prints the numbers from 1 to 100. But for multiples of three print \u201cFizz\u201d instead of the number and for the multiples of five print \u201cBuzz\u201d. For numbers which are multiples of both three and five print \u201cFizzBuzz\u201d. If you finish quickly... see how few characters you can write this program in (this is known as \"code golf\": going for the fewest key strokes)."
     ]
    },
    {
     "cell_type": "code",
     "collapsed": false,
     "input": [
      "for x in xrange(1, 101):\n",
      "    #print x\n",
      "    if x%3 ==0 and x%5==0:\n",
      "        print 'FizzBuzz'\n",
      "    elif x%3 == 0:\n",
      "        print 'Fizz'\n",
      "    elif x%5 == 0:\n",
      "        print 'Buzz'\n",
      "    else:\n",
      "        print x"
     ],
     "language": "python",
     "metadata": {},
     "outputs": [
      {
       "output_type": "stream",
       "stream": "stdout",
       "text": [
        "1\n",
        "2\n",
        "Fizz\n",
        "4\n",
        "Buzz\n",
        "Fizz\n",
        "7\n",
        "8\n",
        "Fizz\n",
        "Buzz\n",
        "11\n",
        "Fizz\n",
        "13\n",
        "14\n",
        "FizzBuzz\n",
        "16\n",
        "17\n",
        "Fizz\n",
        "19\n",
        "Buzz\n",
        "Fizz\n",
        "22\n",
        "23\n",
        "Fizz\n",
        "Buzz\n",
        "26\n",
        "Fizz\n",
        "28\n",
        "29\n",
        "FizzBuzz\n",
        "31\n",
        "32\n",
        "Fizz\n",
        "34\n",
        "Buzz\n",
        "Fizz\n",
        "37\n",
        "38\n",
        "Fizz\n",
        "Buzz\n",
        "41\n",
        "Fizz\n",
        "43\n",
        "44\n",
        "FizzBuzz\n",
        "46\n",
        "47\n",
        "Fizz\n",
        "49\n",
        "Buzz\n",
        "Fizz\n",
        "52\n",
        "53\n",
        "Fizz\n",
        "Buzz\n",
        "56\n",
        "Fizz\n",
        "58\n",
        "59\n",
        "FizzBuzz\n",
        "61\n",
        "62\n",
        "Fizz\n",
        "64\n",
        "Buzz\n",
        "Fizz\n",
        "67\n",
        "68\n",
        "Fizz\n",
        "Buzz\n",
        "71\n",
        "Fizz\n",
        "73\n",
        "74\n",
        "FizzBuzz\n",
        "76\n",
        "77\n",
        "Fizz\n",
        "79\n",
        "Buzz\n",
        "Fizz\n",
        "82\n",
        "83\n",
        "Fizz\n",
        "Buzz\n",
        "86\n",
        "Fizz\n",
        "88\n",
        "89\n",
        "FizzBuzz\n",
        "91\n",
        "92\n",
        "Fizz\n",
        "94\n",
        "Buzz\n",
        "Fizz\n",
        "97\n",
        "98\n",
        "Fizz\n",
        "Buzz\n"
       ]
      }
     ],
     "prompt_number": 5
    },
    {
     "cell_type": "markdown",
     "metadata": {},
     "source": [
      "Write a function called sum_digits that returns the sum of the digits of an integer argument; that is, sum_digits(123) should return 6. Use this function in a program called sum_digits.py that prints out the sum of the digits of every integer multiple of the first argument, up to either the second argument (if included) or the first argument's square."
     ]
    },
    {
     "cell_type": "code",
     "collapsed": false,
     "input": [
      "def sum_digits(n):\n",
      "   i = 0\n",
      "   while n:\n",
      "       i, n = i + n % 10, n // 10\n",
      "   return i"
     ],
     "language": "python",
     "metadata": {},
     "outputs": [],
     "prompt_number": 4
    },
    {
     "cell_type": "code",
     "collapsed": false,
     "input": [
      "sum_digits(123)"
     ],
     "language": "python",
     "metadata": {},
     "outputs": [
      {
       "metadata": {},
       "output_type": "pyout",
       "prompt_number": 5,
       "text": [
        "6"
       ]
      }
     ],
     "prompt_number": 5
    },
    {
     "cell_type": "code",
     "collapsed": false,
     "input": [
      "def sum_dig_func(fir, *args):\n",
      "    fir = float(fir)\n",
      "    if not args:\n",
      "        #print 'no second argument... doing till the square of the first.'\n",
      "        sqr = fir**2\n",
      "        #print sqr\n",
      "        #print int(sqr)\n",
      "        for x in xrange(1, int(sqr)+1):\n",
      "            #just need to do a loop here, sqr+1 is probably the greatest loop # I need.\n",
      "            #better way to do this?\n",
      "            multi = fir * x\n",
      "            #print multi\n",
      "            if multi <= sqr:\n",
      "                print sum_digits(multi)\n",
      "    else:\n",
      "        #print 'has second argument... doing till the value of it.'\n",
      "        sqr = fir**2\n",
      "        for x in xrange(1, int(sqr)+1):\n",
      "            #just need to do a loop here, sqr+1 is probably the greatest loop # I need.\n",
      "            #better way to do this?\n",
      "            multi = fir * x\n",
      "            #print args\n",
      "            if multi <= args[0]:\n",
      "                print sum_digits(multi)\n",
      "    return"
     ],
     "language": "python",
     "metadata": {},
     "outputs": [],
     "prompt_number": 35
    },
    {
     "cell_type": "code",
     "collapsed": false,
     "input": [
      "sum_dig_func(4)"
     ],
     "language": "python",
     "metadata": {},
     "outputs": [
      {
       "output_type": "stream",
       "stream": "stdout",
       "text": [
        "4.0\n",
        "8.0\n",
        "3.0\n",
        "7.0\n"
       ]
      }
     ],
     "prompt_number": 36
    },
    {
     "cell_type": "code",
     "collapsed": false,
     "input": [
      "sum_dig_func(4, 20)"
     ],
     "language": "python",
     "metadata": {},
     "outputs": [
      {
       "output_type": "stream",
       "stream": "stdout",
       "text": [
        "4.0\n",
        "8.0\n",
        "3.0\n",
        "7.0\n",
        "2.0\n"
       ]
      }
     ],
     "prompt_number": 37
    },
    {
     "cell_type": "markdown",
     "metadata": {},
     "source": [
      "Write a program called wordfreq.py that prints out all words longer than three letters (and their frequencies) in a given file, ordered by frequency. Run this on ihaveadream.txt, and check it vis-a-vis ihaveadream_freqs.txt"
     ]
    },
    {
     "cell_type": "code",
     "collapsed": false,
     "input": [
      "string = raw_input('Write a few lines: ')\n",
      "txt = string.split()\n",
      "result = []\n",
      "\n",
      "for words in txt:\n",
      "    if len(words) > 4:\n",
      "        continue\n",
      "    result.append(words)\n",
      "\n",
      "print ', '.join(result), 'have less than five letters'"
     ],
     "language": "python",
     "metadata": {},
     "outputs": [
      {
       "name": "stdout",
       "output_type": "stream",
       "stream": "stdout",
       "text": [
        "Write a few lines: bilin ihihi hhhhhhhhs sh sh shh\n"
       ]
      },
      {
       "output_type": "stream",
       "stream": "stdout",
       "text": [
        "sh, sh, shh have less than five letters\n"
       ]
      }
     ],
     "prompt_number": 42
    },
    {
     "cell_type": "code",
     "collapsed": false,
     "input": [
      "import numpy as np"
     ],
     "language": "python",
     "metadata": {},
     "outputs": [],
     "prompt_number": 43
    },
    {
     "cell_type": "code",
     "collapsed": false,
     "input": [
      "#string = raw_input('Write a few lines: ')\n",
      "#txt = string.split()\n",
      "txtfile = np.loadtxt('ihaveadream.txt', dtype=str)\n",
      "print txtfile\n",
      "txt = txtfile.split()\n",
      "print txt[0:3]"
     ],
     "language": "python",
     "metadata": {},
     "outputs": [
      {
       "ename": "ValueError",
       "evalue": "Wrong number of columns at line 3",
       "output_type": "pyerr",
       "traceback": [
        "\u001b[0;31m---------------------------------------------------------------------------\u001b[0m\n\u001b[0;31mValueError\u001b[0m                                Traceback (most recent call last)",
        "\u001b[0;32m<ipython-input-49-70704cfdf729>\u001b[0m in \u001b[0;36m<module>\u001b[0;34m()\u001b[0m\n\u001b[1;32m      1\u001b[0m \u001b[0;31m#string = raw_input('Write a few lines: ')\u001b[0m\u001b[0;34m\u001b[0m\u001b[0;34m\u001b[0m\u001b[0m\n\u001b[1;32m      2\u001b[0m \u001b[0;31m#txt = string.split()\u001b[0m\u001b[0;34m\u001b[0m\u001b[0;34m\u001b[0m\u001b[0m\n\u001b[0;32m----> 3\u001b[0;31m \u001b[0mtxtfile\u001b[0m \u001b[0;34m=\u001b[0m \u001b[0mnp\u001b[0m\u001b[0;34m.\u001b[0m\u001b[0mloadtxt\u001b[0m\u001b[0;34m(\u001b[0m\u001b[0;34m'ihaveadream.txt'\u001b[0m\u001b[0;34m,\u001b[0m \u001b[0mdtype\u001b[0m\u001b[0;34m=\u001b[0m\u001b[0mstr\u001b[0m\u001b[0;34m)\u001b[0m\u001b[0;34m\u001b[0m\u001b[0m\n\u001b[0m\u001b[1;32m      4\u001b[0m \u001b[0;32mprint\u001b[0m \u001b[0mtxtfile\u001b[0m\u001b[0;34m\u001b[0m\u001b[0m\n\u001b[1;32m      5\u001b[0m \u001b[0mtxt\u001b[0m \u001b[0;34m=\u001b[0m \u001b[0mtxtfile\u001b[0m\u001b[0;34m.\u001b[0m\u001b[0msplit\u001b[0m\u001b[0;34m(\u001b[0m\u001b[0;34m)\u001b[0m\u001b[0;34m\u001b[0m\u001b[0m\n",
        "\u001b[0;32m/Users/sweven/Library/Enthought/Canopy_64bit/User/lib/python2.7/site-packages/numpy/lib/npyio.pyc\u001b[0m in \u001b[0;36mloadtxt\u001b[0;34m(fname, dtype, comments, delimiter, converters, skiprows, usecols, unpack, ndmin)\u001b[0m\n\u001b[1;32m    855\u001b[0m                 \u001b[0mline_num\u001b[0m \u001b[0;34m=\u001b[0m \u001b[0mi\u001b[0m \u001b[0;34m+\u001b[0m \u001b[0mskiprows\u001b[0m \u001b[0;34m+\u001b[0m \u001b[0;36m1\u001b[0m\u001b[0;34m\u001b[0m\u001b[0m\n\u001b[1;32m    856\u001b[0m                 raise ValueError(\"Wrong number of columns at line %d\"\n\u001b[0;32m--> 857\u001b[0;31m                                  % line_num)\n\u001b[0m\u001b[1;32m    858\u001b[0m \u001b[0;34m\u001b[0m\u001b[0m\n\u001b[1;32m    859\u001b[0m             \u001b[0;31m# Convert each value according to its column and store\u001b[0m\u001b[0;34m\u001b[0m\u001b[0;34m\u001b[0m\u001b[0m\n",
        "\u001b[0;31mValueError\u001b[0m: Wrong number of columns at line 3"
       ]
      }
     ],
     "prompt_number": 49
    },
    {
     "cell_type": "code",
     "collapsed": false,
     "input": [],
     "language": "python",
     "metadata": {},
     "outputs": []
    }
   ],
   "metadata": {}
  }
 ]
}