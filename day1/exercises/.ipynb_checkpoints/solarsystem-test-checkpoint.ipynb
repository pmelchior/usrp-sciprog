{
 "metadata": {
  "name": "",
  "signature": "sha256:12b1fb1fc308ee91ac61fa901b350e535ce6090d344811a7028ab188f8213467"
 },
 "nbformat": 3,
 "nbformat_minor": 0,
 "worksheets": [
  {
   "cells": [
    {
     "cell_type": "markdown",
     "metadata": {},
     "source": [
      "Write a `solarsystem.py` file that implements the `Planet`, `Star`, and `System` objects such that running the cells in this notebook produce the desired output.  For calculating planet densities, just use that the density of Earth is 5.51 g/cc, and scale from there."
     ]
    },
    {
     "cell_type": "code",
     "collapsed": false,
     "input": [
      "from solarsystem import Planet, Star, System"
     ],
     "language": "python",
     "metadata": {},
     "outputs": [],
     "prompt_number": 1
    },
    {
     "cell_type": "code",
     "collapsed": false,
     "input": [
      "sun = Star()\n",
      "print(sun)"
     ],
     "language": "python",
     "metadata": {},
     "outputs": [
      {
       "output_type": "stream",
       "stream": "stdout",
       "text": [
        "Sun:1.0 M_sun, 1.0 R_sun\n"
       ]
      }
     ],
     "prompt_number": 2
    },
    {
     "cell_type": "markdown",
     "metadata": {},
     "source": [
      "Output should be:\n",
      "\n",
      "    Sol: 1.00 M_sun, 1.00 R_sun"
     ]
    },
    {
     "cell_type": "code",
     "collapsed": false,
     "input": [
      "half_sun = Star(mass=0.5, radius=0.5, name='Demisol')\n",
      "print(half_sun)"
     ],
     "language": "python",
     "metadata": {},
     "outputs": [
      {
       "output_type": "stream",
       "stream": "stdout",
       "text": [
        "Demisol:0.5 M_sun, 0.5 R_sun\n"
       ]
      }
     ],
     "prompt_number": 3
    },
    {
     "cell_type": "markdown",
     "metadata": {},
     "source": [
      "Output should be:\n",
      "\n",
      "    Demisol: 0.50 M_sun, 0.50 R_sun"
     ]
    },
    {
     "cell_type": "code",
     "collapsed": false,
     "input": [
      "earth = Planet(365, 1.0, mass=1.0, name='Earth')\n",
      "print(earth)\n",
      "venus = Planet(226, 0.92, name='Venus') #if mass not provided, use M = R^2\n",
      "print(venus)\n",
      "venus.mass = 0.81 #Venus's actual mass\n",
      "print venus.density"
     ],
     "language": "python",
     "metadata": {},
     "outputs": [
      {
       "output_type": "stream",
       "stream": "stdout",
       "text": [
        "Earth: 365 days, 1.0 R_earth, 1.0 M_sun, density = 5.49782939471 g/cc\n",
        "Venus: 226 days, 0.92 R_earth, 1.0 M_sun, density = 7.06037513704 g/cc\n",
        "7.06037513704\n"
       ]
      }
     ],
     "prompt_number": 4
    },
    {
     "cell_type": "markdown",
     "metadata": {},
     "source": [
      "Output should be:\n",
      "\n",
      "    Earth: 365 days, 1.00 R_earth, 1.00 M_earth, density = 5.5 g/cc\n",
      "    Venus: 226 days, 0.92 R_earth, 0.85 M_earth, density = 6.0 g/cc\n",
      "    5.73156386126"
     ]
    },
    {
     "cell_type": "code",
     "collapsed": false,
     "input": [
      "ss = System(sun, planets=[earth, venus])\n",
      "print ss.n_planets\n",
      "mercury = Planet(88, 0.38, name='Mercury')\n",
      "ss.add_planet(mercury)\n",
      "print ss.n_planets\n",
      "print(ss)"
     ],
     "language": "python",
     "metadata": {},
     "outputs": [
      {
       "output_type": "stream",
       "stream": "stdout",
       "text": [
        "2\n",
        "3\n",
        "Sol: 1.0 M_sun, 1.0 R_sun\n",
        "Earth: 365 days, 1.0 R_earth, 1.0 M_sun, density = 5.49782939471 g/cc\n",
        "Venus: 226 days, 0.92 R_earth, 0.81 M_sun, density = 7.06037513704 g/cc\n",
        "Mercury: 88 days, 0.38 R_earth, 1.0 M_sun, density = 100.193712544 g/cc\n",
        "\n"
       ]
      }
     ],
     "prompt_number": 5
    },
    {
     "cell_type": "markdown",
     "metadata": {},
     "source": [
      "Output should be:\n",
      "\n",
      "    2\n",
      "    3\n",
      "    Sol: 1.00 M_sun, 1.00 R_sun\n",
      "      Mercury: 88 days, 0.38 R_earth, 0.14 M_earth, density = 14.5 g/cc\n",
      "      Venus: 226 days, 0.92 R_earth, 0.85 M_earth, density = 5.7 g/cc\n",
      "      Earth: 365 days, 1.00 R_earth, 1.00 M_earth, density = 5.5 g/cc"
     ]
    },
    {
     "cell_type": "code",
     "collapsed": false,
     "input": [
      "print(ss['Earth'])"
     ],
     "language": "python",
     "metadata": {},
     "outputs": []
    },
    {
     "cell_type": "markdown",
     "metadata": {},
     "source": [
      "Output should be:\n",
      "\n",
      "    Earth: 365 days, 1.00 R_earth, 1.00 M_earth, density = 5.5 g/cc"
     ]
    },
    {
     "cell_type": "code",
     "collapsed": false,
     "input": [
      "ss2 = System(half_sun)\n",
      "ss2.add_planet(Planet(44, 0.19))\n",
      "ss2.add_planet(Planet(182, 0.5))\n",
      "ss2.add_planet(Planet(113, 0.46))\n",
      "print(ss2)"
     ],
     "language": "python",
     "metadata": {},
     "outputs": [
      {
       "output_type": "stream",
       "stream": "stdout",
       "text": [
        "Planet does not have name, will be named Demisol-b.\n",
        "Planet does not have name, will be named Demisol-c.\n",
        "Planet does not have name, will be named Demisol-d.\n",
        "Demisol: 0.50 M_sun, 0.50 R_sun\n",
        "  Demisol-b: 44 days, 0.19 R_earth, 0.04 M_earth, density = 29.0 g/cc\n",
        "  Demisol-d: 113 days, 0.46 R_earth, 0.21 M_earth, density = 12.0 g/cc\n",
        "  Demisol-c: 182 days, 0.50 R_earth, 0.25 M_earth, density = 11.0 g/cc\n",
        "\n"
       ]
      }
     ],
     "prompt_number": 7
    },
    {
     "cell_type": "markdown",
     "metadata": {},
     "source": [
      "Output should be:\n",
      "\n",
      "    Planet does not have name, will be named Demisol-b.\n",
      "    Planet does not have name, will be named Demisol-c.\n",
      "    Planet does not have name, will be named Demisol-d.\n",
      "    Demisol: 0.50 M_sun, 0.50 R_sun\n",
      "      Demisol-b: 44 days, 0.19 R_earth, 0.04 M_earth, density = 29.0 g/cc\n",
      "      Demisol-d: 113 days, 0.46 R_earth, 0.21 M_earth, density = 12.0 g/cc\n",
      "      Demisol-c: 182 days, 0.50 R_earth, 0.25 M_earth, density = 11.0 g/cc"
     ]
    },
    {
     "cell_type": "code",
     "collapsed": false,
     "input": [],
     "language": "python",
     "metadata": {},
     "outputs": []
    }
   ],
   "metadata": {}
  }
 ]
}