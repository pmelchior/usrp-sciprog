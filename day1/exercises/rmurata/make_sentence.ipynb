{
 "cells": [
  {
   "cell_type": "code",
   "execution_count": 3,
   "metadata": {
    "collapsed": false
   },
   "outputs": [
    {
     "name": "stdout",
     "output_type": "stream",
     "text": [
      "Enter a word(. ! or ? to end):a\n",
      "a\n",
      "Enter a word(. ! or ? to end):b\n",
      "b\n",
      "Enter a word(. ! or ? to end):.\n",
      ".\n"
     ]
    }
   ],
   "source": [
    "while 1:\n",
    "    s = raw_input('Enter a word(. ! or ? to end):')\n",
    "    print(s)\n",
    "    if (s == '.') or (s == '!') or (s == '?') or (s == 'end'):\n",
    "        break\n",
    "        "
   ]
  },
  {
   "cell_type": "code",
   "execution_count": null,
   "metadata": {
    "collapsed": true
   },
   "outputs": [],
   "source": []
  }
 ],
 "metadata": {
  "kernelspec": {
   "display_name": "Python 2",
   "language": "python",
   "name": "python2"
  },
  "language_info": {
   "codemirror_mode": {
    "name": "ipython",
    "version": 2
   },
   "file_extension": ".py",
   "mimetype": "text/x-python",
   "name": "python",
   "nbconvert_exporter": "python",
   "pygments_lexer": "ipython2",
   "version": "2.7.9"
  }
 },
 "nbformat": 4,
 "nbformat_minor": 0
}
