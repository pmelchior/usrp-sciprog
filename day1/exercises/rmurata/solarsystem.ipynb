{
 "cells": [
  {
   "cell_type": "code",
   "execution_count": 18,
   "metadata": {
    "collapsed": false
   },
   "outputs": [],
   "source": [
    "class Star:\n",
    "    def __init__(self, mass=1.00, radius=1.00, name='sol'):\n",
    "        self.mass = mass\n",
    "        self.radius = radius\n",
    "        self.name = name\n",
    "    def __str__(self):\n",
    "        return '%s: %03.2f M_sun, %03.2f R_sun' % (self.name, self.mass, self.radius)\n",
    "        "
   ]
  },
  {
   "cell_type": "code",
   "execution_count": 170,
   "metadata": {
    "collapsed": false
   },
   "outputs": [],
   "source": [
    "class Planet:\n",
    "    def __init__(self, days_per_year=365, radius=1, name='Earth', mass = 'a'):\n",
    "        self.days_per_year = days_per_year\n",
    "        self.radius = radius\n",
    "        self.name = name\n",
    "        if (mass == 'a'):\n",
    "            self.mass = radius**2.\n",
    "        else:\n",
    "            self.mass = mass\n",
    "        self.density = 5.51 * self.mass / (self.radius)**3.\n",
    "    def __str__(self):\n",
    "        return '%s:%03.2f days, %03.2f R_earth, %03.2f M_earth, density = %f g/cc' % (self.name, self.days_per_year, self.radius, self.mass, self.density)"
   ]
  },
  {
   "cell_type": "code",
   "execution_count": 171,
   "metadata": {
    "collapsed": false
   },
   "outputs": [],
   "source": [
    "class System:\n",
    "    def __init__(self, star, planets):\n",
    "        self.star = star\n",
    "        self.planets = planets\n",
    "        self.n_planets = len(planets)\n",
    "    def add_planet(self, new):\n",
    "        self.planets.append(new)\n",
    "        self.n_planets+=1\n",
    "    def __str__(self):\n",
    "        print \"{}: {} M_sun, {} R_sun\" .format(self.star.name, self.star.mass, self.star.radius)\n",
    "        for i in self.planets:\n",
    "            print i\n",
    "        return ' '"
   ]
  },
  {
   "cell_type": "code",
   "execution_count": null,
   "metadata": {
    "collapsed": true
   },
   "outputs": [],
   "source": []
  },
  {
   "cell_type": "code",
   "execution_count": null,
   "metadata": {
    "collapsed": true
   },
   "outputs": [],
   "source": []
  },
  {
   "cell_type": "code",
   "execution_count": null,
   "metadata": {
    "collapsed": true
   },
   "outputs": [],
   "source": []
  }
 ],
 "metadata": {
  "kernelspec": {
   "display_name": "Python 2",
   "language": "python",
   "name": "python2"
  },
  "language_info": {
   "codemirror_mode": {
    "name": "ipython",
    "version": 2
   },
   "file_extension": ".py",
   "mimetype": "text/x-python",
   "name": "python",
   "nbconvert_exporter": "python",
   "pygments_lexer": "ipython2",
   "version": "2.7.9"
  }
 },
 "nbformat": 4,
 "nbformat_minor": 0
}
