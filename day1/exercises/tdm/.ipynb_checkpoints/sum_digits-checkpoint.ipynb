{
 "cells": [
  {
   "cell_type": "code",
   "execution_count": 10,
   "metadata": {
    "collapsed": false
   },
   "outputs": [
    {
     "name": "stdout",
     "output_type": "stream",
     "text": [
      "ERROR\n"
     ]
    }
   ],
   "source": [
    "#!/usr/bin/env python\n",
    "import sys\n",
    "\n",
    "def sum_digits(number):\n",
    "    a = list(str(number))\n",
    "    count = 0\n",
    "    for i in range(len(a)):\n",
    "        count += float(a[i])\n",
    "    print(int(count))\n",
    "\n",
    "if __name__=='__main__':\n",
    "    length = len(sys.argv)\n",
    "    if (length == 1):\n",
    "        a = int(sys.argv[0])\n",
    "        square = a * a\n",
    "        for k in range(square - a):\n",
    "            k2 = a + k\n",
    "            if (k2%a == 0):\n",
    "                print( sum_digits( int(k2) ) )\n",
    "            else:\n",
    "                pass\n",
    "        \n",
    "    elif (length == 2):\n",
    "        a = int(sys.argv[0])\n",
    "        b = int(sys.argv[1])\n",
    "        for k in range(b - a):\n",
    "            k2 = a + k\n",
    "            if (k2%a == 0):\n",
    "                print( sum_digits( int(k2) ) )\n",
    "            else:\n",
    "                pass\n",
    "    else:\n",
    "        print('ERROR')"
   ]
  },
  {
   "cell_type": "markdown",
   "metadata": {
    "collapsed": true
   },
   "source": [
    "1\n"
   ]
  },
  {
   "cell_type": "code",
   "execution_count": null,
   "metadata": {
    "collapsed": true
   },
   "outputs": [],
   "source": []
  }
 ],
 "metadata": {
  "kernelspec": {
   "display_name": "Python 2",
   "language": "python",
   "name": "python2"
  },
  "language_info": {
   "codemirror_mode": {
    "name": "ipython",
    "version": 2
   },
   "file_extension": ".py",
   "mimetype": "text/x-python",
   "name": "python",
   "nbconvert_exporter": "python",
   "pygments_lexer": "ipython2",
   "version": "2.7.9"
  }
 },
 "nbformat": 4,
 "nbformat_minor": 0
}
