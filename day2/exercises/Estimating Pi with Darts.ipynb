{
 "cells": [
  {
   "cell_type": "code",
   "execution_count": 1,
   "metadata": {
    "collapsed": true
   },
   "outputs": [],
   "source": [
    "% matplotlib inline\n",
    "import numpy as np\n",
    "import pi_estimate.darts as darts\n",
    "import matplotlib.pyplot as plt"
   ]
  },
  {
   "cell_type": "code",
   "execution_count": 2,
   "metadata": {},
   "outputs": [
    {
     "name": "stdout",
     "output_type": "stream",
     "text": [
      "n = 1.00e+02: \\pi = 3.400\n",
      "n = 1.00e+03: \\pi = 3.168\n",
      "n = 1.00e+04: \\pi = 3.113\n",
      "n = 1.00e+06: \\pi = 3.144\n"
     ]
    }
   ],
   "source": [
    "for n in [100, 1000, 10000, int(1e6)]:\n",
    "    dart_set = darts.Darts(n_darts = n)\n",
    "    pi = dart_set.estimate_pi()\n",
    "    print('n = {:.2e}: \\pi = {:5.3f}'.format(n, pi))"
   ]
  },
  {
   "cell_type": "code",
   "execution_count": 3,
   "metadata": {},
   "outputs": [
    {
     "data": {
      "image/png": "[encoded data removed]",
      "text/plain": [
       "<matplotlib.figure.Figure at 0x10b5b5f28>"
      ]
     },
     "metadata": {},
     "output_type": "display_data"
    }
   ],
   "source": [
    "from time import process_time\n",
    "\n",
    "ns = np.array([2,3,4,5,6,7,8])\n",
    "times = np.array([])\n",
    "\n",
    "for n in ns:\n",
    "    t_start = process_time()\n",
    "    dart_set = darts.Darts(n_darts = 10**n)\n",
    "    pi = dart_set.estimate_pi()\n",
    "    t_end   = process_time()\n",
    "    times = np.append(times, t_end - t_start)\n",
    "    \n",
    "plt.scatter(ns, np.log(times))\n",
    "plt.xlabel('log(n)')\n",
    "plt.ylabel('log(time/sec)')\n",
    "plt.title('Log-Log plot of time')\n",
    "plt.show()"
   ]
  },
  {
   "cell_type": "code",
   "execution_count": 5,
   "metadata": {},
   "outputs": [
    {
     "data": {
      "text/plain": [
       "<matplotlib.collections.PathCollection at 0x11feea2b0>"
      ]
     },
     "execution_count": 5,
     "metadata": {},
     "output_type": "execute_result"
    },
    {
     "data": {
      "image/png": "[encoded data removed]",
      "text/plain": [
       "<matplotlib.figure.Figure at 0x10b63e2e8>"
      ]
     },
     "metadata": {},
     "output_type": "display_data"
    }
   ],
   "source": [
    "dart_set = darts.Darts(n_darts = 100)\n",
    "dart_arr = dart_set.darts\n",
    "plt.scatter(dart_arr[0], dart_arr[1])\n"
   ]
  },
  {
   "cell_type": "code",
   "execution_count": null,
   "metadata": {
    "collapsed": true
   },
   "outputs": [],
   "source": []
  }
 ],
 "metadata": {
  "kernelspec": {
   "display_name": "Python 3",
   "language": "python",
   "name": "python3"
  },
  "language_info": {
   "codemirror_mode": {
    "name": "ipython",
    "version": 3
   },
   "file_extension": ".py",
   "mimetype": "text/x-python",
   "name": "python",
   "nbconvert_exporter": "python",
   "pygments_lexer": "ipython3",
   "version": "3.5.3"
  }
 },
 "nbformat": 4,
 "nbformat_minor": 2
}
