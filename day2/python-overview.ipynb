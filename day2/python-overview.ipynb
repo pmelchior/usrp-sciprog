{
 "metadata": {
  "name": "",
  "signature": "sha256:5300d13b9124a59bbe588067c8f49341bd4f2e836fa8ed53f3a62ef3ff1c47a0"
 },
 "nbformat": 3,
 "nbformat_minor": 0,
 "worksheets": [
  {
   "cells": [
    {
     "cell_type": "heading",
     "level": 1,
     "metadata": {},
     "source": [
      "General quick Python overview"
     ]
    },
    {
     "cell_type": "markdown",
     "metadata": {},
     "source": [
      "Everything in Python is an object.  Basic data types are list, tuple, dictionary, set."
     ]
    },
    {
     "cell_type": "code",
     "collapsed": false,
     "input": [
      "mylist = [1,2,3,4]\n",
      "mylist[1]"
     ],
     "language": "python",
     "metadata": {},
     "outputs": [
      {
       "metadata": {},
       "output_type": "pyout",
       "prompt_number": 113,
       "text": [
        "2"
       ]
      }
     ],
     "prompt_number": 113
    },
    {
     "cell_type": "code",
     "collapsed": false,
     "input": [
      "list2 = mylist + mylist\n",
      "list2"
     ],
     "language": "python",
     "metadata": {},
     "outputs": [
      {
       "metadata": {},
       "output_type": "pyout",
       "prompt_number": 114,
       "text": [
        "[1, 2, 3, 4, 1, 2, 3, 4]"
       ]
      }
     ],
     "prompt_number": 114
    },
    {
     "cell_type": "code",
     "collapsed": false,
     "input": [
      "for i in mylist:\n",
      "    print i\n",
      "print mylist"
     ],
     "language": "python",
     "metadata": {},
     "outputs": [
      {
       "output_type": "stream",
       "stream": "stdout",
       "text": [
        "1\n",
        "2\n",
        "3\n",
        "4\n",
        "[1, 2, 3, 4]\n"
       ]
      }
     ],
     "prompt_number": 115
    },
    {
     "cell_type": "code",
     "collapsed": false,
     "input": [
      "otherlist = ['bad', 'good', 1, 2, 3, [1,2,3]]\n",
      "\n",
      "for i,x in enumerate(otherlist):\n",
      "    print i, x"
     ],
     "language": "python",
     "metadata": {},
     "outputs": [
      {
       "output_type": "stream",
       "stream": "stdout",
       "text": [
        "0 bad\n",
        "1 good\n",
        "2 1\n",
        "3 2\n",
        "4 3\n",
        "5 [1, 2, 3]\n"
       ]
      }
     ],
     "prompt_number": 116
    },
    {
     "cell_type": "code",
     "collapsed": false,
     "input": [
      "squares = [i**2 for i in range(10)] #this is called a list comprehension\n",
      "print(squares)\n",
      "\n",
      "values = range(10)\n",
      "squares = []\n",
      "for v in values:\n",
      "    squares.append(v**2)\n",
      "print(squares)\n"
     ],
     "language": "python",
     "metadata": {},
     "outputs": [
      {
       "output_type": "stream",
       "stream": "stdout",
       "text": [
        "[0, 1, 4, 9, 16, 25, 36, 49, 64, 81]\n",
        "[0, 1, 4, 9, 16, 25, 36, 49, 64, 81]\n"
       ]
      }
     ],
     "prompt_number": 117
    },
    {
     "cell_type": "heading",
     "level": 2,
     "metadata": {},
     "source": [
      "Dictionaries!"
     ]
    },
    {
     "cell_type": "code",
     "collapsed": false,
     "input": [
      "d = {'first':'Tim', 'last':'Morton', 'age':31, 20:50}"
     ],
     "language": "python",
     "metadata": {},
     "outputs": [],
     "prompt_number": 118
    },
    {
     "cell_type": "code",
     "collapsed": false,
     "input": [
      "d['first']"
     ],
     "language": "python",
     "metadata": {},
     "outputs": [
      {
       "metadata": {},
       "output_type": "pyout",
       "prompt_number": 119,
       "text": [
        "'Tim'"
       ]
      }
     ],
     "prompt_number": 119
    },
    {
     "cell_type": "code",
     "collapsed": false,
     "input": [
      "d.keys()"
     ],
     "language": "python",
     "metadata": {},
     "outputs": [
      {
       "metadata": {},
       "output_type": "pyout",
       "prompt_number": 120,
       "text": [
        "[20, 'age', 'last', 'first']"
       ]
      }
     ],
     "prompt_number": 120
    },
    {
     "cell_type": "code",
     "collapsed": false,
     "input": [
      "d.values()"
     ],
     "language": "python",
     "metadata": {},
     "outputs": [
      {
       "metadata": {},
       "output_type": "pyout",
       "prompt_number": 121,
       "text": [
        "[50, 31, 'Morton', 'Tim']"
       ]
      }
     ],
     "prompt_number": 121
    },
    {
     "cell_type": "code",
     "collapsed": false,
     "input": [
      "for x in d:\n",
      "    print x, d[x]"
     ],
     "language": "python",
     "metadata": {},
     "outputs": [
      {
       "output_type": "stream",
       "stream": "stdout",
       "text": [
        "20 50\n",
        "age 31\n",
        "last Morton\n",
        "first Tim\n"
       ]
      }
     ],
     "prompt_number": 122
    },
    {
     "cell_type": "code",
     "collapsed": false,
     "input": [
      "for k,v in d.items():\n",
      "    print k,v"
     ],
     "language": "python",
     "metadata": {},
     "outputs": [
      {
       "output_type": "stream",
       "stream": "stdout",
       "text": [
        "20 50\n",
        "age 31\n",
        "last Morton\n",
        "first Tim\n"
       ]
      }
     ],
     "prompt_number": 123
    },
    {
     "cell_type": "code",
     "collapsed": false,
     "input": [
      "d = dict(ab=1, bcd=2, cdefs=4)\n",
      "d"
     ],
     "language": "python",
     "metadata": {},
     "outputs": [
      {
       "metadata": {},
       "output_type": "pyout",
       "prompt_number": 124,
       "text": [
        "{'ab': 1, 'bcd': 2, 'cdefs': 4}"
       ]
      }
     ],
     "prompt_number": 124
    },
    {
     "cell_type": "code",
     "collapsed": false,
     "input": [
      "d = {i:i**2 for i in range(5)}\n",
      "print d"
     ],
     "language": "python",
     "metadata": {},
     "outputs": [
      {
       "output_type": "stream",
       "stream": "stdout",
       "text": [
        "{0: 0, 1: 1, 2: 4, 3: 9, 4: 16}\n"
       ]
      }
     ],
     "prompt_number": 126
    },
    {
     "cell_type": "code",
     "collapsed": false,
     "input": [
      "names = ['bob', 'jenny', 'omar']\n",
      "name_length = {n:len(n) for n in names}\n",
      "print(name_length)\n",
      "\n",
      "name_length = {}\n",
      "for n in names:\n",
      "    name_length[n] = len(n)\n",
      "print(name_length)"
     ],
     "language": "python",
     "metadata": {},
     "outputs": [
      {
       "output_type": "stream",
       "stream": "stdout",
       "text": [
        "{'bob': 3, 'jenny': 5, 'omar': 4}\n",
        "{'bob': 3, 'jenny': 5, 'omar': 4}\n"
       ]
      }
     ],
     "prompt_number": 127
    },
    {
     "cell_type": "heading",
     "level": 2,
     "metadata": {},
     "source": [
      "Functions!"
     ]
    },
    {
     "cell_type": "code",
     "collapsed": false,
     "input": [
      "def addme(x, y):\n",
      "    \"\"\"\n",
      "    Adds two numbers\n",
      "    \"\"\"\n",
      "    return x + y"
     ],
     "language": "python",
     "metadata": {},
     "outputs": [],
     "prompt_number": 128
    },
    {
     "cell_type": "code",
     "collapsed": false,
     "input": [
      "addme(4,5)"
     ],
     "language": "python",
     "metadata": {},
     "outputs": [
      {
       "metadata": {},
       "output_type": "pyout",
       "prompt_number": 129,
       "text": [
        "9"
       ]
      }
     ],
     "prompt_number": 129
    },
    {
     "cell_type": "code",
     "collapsed": false,
     "input": [
      "addme(5)"
     ],
     "language": "python",
     "metadata": {},
     "outputs": [
      {
       "ename": "TypeError",
       "evalue": "addme() takes exactly 2 arguments (1 given)",
       "output_type": "pyerr",
       "traceback": [
        "\u001b[0;31m---------------------------------------------------------------------------\u001b[0m\n\u001b[0;31mTypeError\u001b[0m                                 Traceback (most recent call last)",
        "\u001b[0;32m<ipython-input-130-004cb258e6c0>\u001b[0m in \u001b[0;36m<module>\u001b[0;34m()\u001b[0m\n\u001b[0;32m----> 1\u001b[0;31m \u001b[0maddme\u001b[0m\u001b[0;34m(\u001b[0m\u001b[0;36m5\u001b[0m\u001b[0;34m)\u001b[0m\u001b[0;34m\u001b[0m\u001b[0m\n\u001b[0m",
        "\u001b[0;31mTypeError\u001b[0m: addme() takes exactly 2 arguments (1 given)"
       ]
      }
     ],
     "prompt_number": 130
    },
    {
     "cell_type": "code",
     "collapsed": false,
     "input": [
      "def f2(x, y, z=4, zz=5):\n",
      "    print 'x is {}, y is {}, z is {}, zz is {}'.format(x,y,z,zz)"
     ],
     "language": "python",
     "metadata": {},
     "outputs": [],
     "prompt_number": 131
    },
    {
     "cell_type": "code",
     "collapsed": false,
     "input": [
      "f2(1,2)"
     ],
     "language": "python",
     "metadata": {},
     "outputs": [
      {
       "output_type": "stream",
       "stream": "stdout",
       "text": [
        "x is 1, y is 2, z is 4, zz is 5\n"
       ]
      }
     ],
     "prompt_number": 132
    },
    {
     "cell_type": "code",
     "collapsed": false,
     "input": [
      "f2(4,5, z='hello')"
     ],
     "language": "python",
     "metadata": {},
     "outputs": [
      {
       "output_type": "stream",
       "stream": "stdout",
       "text": [
        "x is 4, y is 5, z is hello, zz is 5\n"
       ]
      }
     ],
     "prompt_number": 133
    },
    {
     "cell_type": "code",
     "collapsed": false,
     "input": [
      "f2(4,5,zz=6,z=7)"
     ],
     "language": "python",
     "metadata": {},
     "outputs": [
      {
       "output_type": "stream",
       "stream": "stdout",
       "text": [
        "x is 4, y is 5, z is 7, zz is 6\n"
       ]
      }
     ],
     "prompt_number": 134
    },
    {
     "cell_type": "code",
     "collapsed": false,
     "input": [
      "f2(y=1, x=5)"
     ],
     "language": "python",
     "metadata": {},
     "outputs": [
      {
       "output_type": "stream",
       "stream": "stdout",
       "text": [
        "x is 5, y is 1, z is 4, zz is 5\n"
       ]
      }
     ],
     "prompt_number": 135
    },
    {
     "cell_type": "code",
     "collapsed": false,
     "input": [
      "def arbitrary(x, *args, **kwargs):\n",
      "    print args\n",
      "    print kwargs"
     ],
     "language": "python",
     "metadata": {},
     "outputs": [],
     "prompt_number": 136
    },
    {
     "cell_type": "code",
     "collapsed": false,
     "input": [
      "arbitrary(1,2,3, a=5, b=123)"
     ],
     "language": "python",
     "metadata": {},
     "outputs": [
      {
       "output_type": "stream",
       "stream": "stdout",
       "text": [
        "(2, 3)\n",
        "{'a': 5, 'b': 123}\n"
       ]
      }
     ],
     "prompt_number": 137
    },
    {
     "cell_type": "code",
     "collapsed": false,
     "input": [
      "def plot_wrapper(x,y, **kwargs):\n",
      "    plot(x,y, **kwargs)"
     ],
     "language": "python",
     "metadata": {},
     "outputs": [],
     "prompt_number": 138
    },
    {
     "cell_type": "code",
     "collapsed": false,
     "input": [
      "5*4"
     ],
     "language": "python",
     "metadata": {},
     "outputs": [
      {
       "metadata": {},
       "output_type": "pyout",
       "prompt_number": 139,
       "text": [
        "20"
       ]
      }
     ],
     "prompt_number": 139
    },
    {
     "cell_type": "code",
     "collapsed": false,
     "input": [
      "2**2"
     ],
     "language": "python",
     "metadata": {},
     "outputs": [
      {
       "metadata": {},
       "output_type": "pyout",
       "prompt_number": 86,
       "text": [
        "4"
       ]
      }
     ],
     "prompt_number": 86
    },
    {
     "cell_type": "code",
     "collapsed": false,
     "input": [
      "import numpy\n",
      "numpy.sin(numpy.pi)"
     ],
     "language": "python",
     "metadata": {},
     "outputs": [
      {
       "metadata": {},
       "output_type": "pyout",
       "prompt_number": 140,
       "text": [
        "1.2246467991473532e-16"
       ]
      }
     ],
     "prompt_number": 140
    },
    {
     "cell_type": "code",
     "collapsed": false,
     "input": [
      "import numpy as np\n",
      "np.sin(np.pi)"
     ],
     "language": "python",
     "metadata": {},
     "outputs": [
      {
       "metadata": {},
       "output_type": "pyout",
       "prompt_number": 141,
       "text": [
        "1.2246467991473532e-16"
       ]
      }
     ],
     "prompt_number": 141
    },
    {
     "cell_type": "code",
     "collapsed": false,
     "input": [
      "from numpy import *  #don't do this.\n",
      "sin(pi)"
     ],
     "language": "python",
     "metadata": {},
     "outputs": [
      {
       "metadata": {},
       "output_type": "pyout",
       "prompt_number": 142,
       "text": [
        "1.2246467991473532e-16"
       ]
      }
     ],
     "prompt_number": 142
    },
    {
     "cell_type": "code",
     "collapsed": false,
     "input": [
      "from numpy import pi\n",
      "pi"
     ],
     "language": "python",
     "metadata": {},
     "outputs": [
      {
       "metadata": {},
       "output_type": "pyout",
       "prompt_number": 143,
       "text": [
        "3.141592653589793"
       ]
      }
     ],
     "prompt_number": 143
    },
    {
     "cell_type": "markdown",
     "metadata": {},
     "source": [
      "Where does python find my modules?"
     ]
    },
    {
     "cell_type": "code",
     "collapsed": false,
     "input": [
      "import sys\n",
      "sys.path.append('/path/to/my/module')"
     ],
     "language": "python",
     "metadata": {},
     "outputs": [],
     "prompt_number": 144
    },
    {
     "cell_type": "code",
     "collapsed": false,
     "input": [
      "sys.path"
     ],
     "language": "python",
     "metadata": {},
     "outputs": [
      {
       "metadata": {},
       "output_type": "pyout",
       "prompt_number": 145,
       "text": [
        "['',\n",
        " '/Users/tdm/anaconda/lib/python2.7/site-packages/acor-1.1.1-py2.7-macosx-10.5-x86_64.egg',\n",
        " '/Users/tdm/anaconda/lib/python2.7/site-packages/pymultinest-1.1-py2.7.egg',\n",
        " '/Users/tdm/anaconda/lib/python2.7/site-packages/obliquity-0.2-py2.7-macosx-10.5-x86_64.egg',\n",
        " '/Users/tdm/anaconda/lib/python2.7/site-packages/keprot-0.1-py2.7.egg',\n",
        " '/Users/tdm/anaconda/lib/python2.7/site-packages/acor-1.1.1-py2.7-macosx-10.5-x86_64.egg',\n",
        " '/Users/tdm/anaconda/lib/python2.7/site-packages/dmdd-0.0-py2.7-macosx-10.5-x86_64.egg',\n",
        " '/Users/tdm/anaconda/lib/python2.7/site-packages/pymultinest-1.1-py2.7.egg',\n",
        " '/Users/tdm/anaconda/lib/python2.7/site-packages/hashutils-0.0.3-py2.7.egg',\n",
        " '/Users/tdm/anaconda/lib/python2.7/site-packages/orbitutils-0.1.5-py2.7.egg',\n",
        " '/Users/tdm/anaconda/lib/python2.7/site-packages/starutils-0.3-py2.7.egg',\n",
        " '/Users/tdm/anaconda/lib/python2.7/site-packages/simpledist-0.1.11-py2.7.egg',\n",
        " '/Users/tdm/anaconda/lib/python2.7/site-packages/isochrones-0.9.0-py2.7.egg',\n",
        " '/Users/tdm/anaconda/lib/python2.7/site-packages/VESPA-0.2.5-py2.7-macosx-10.5-x86_64.egg',\n",
        " '/Users/tdm/anaconda/lib/python2.7/site-packages',\n",
        " '/Users/tdm/Dropbox/FPP/src',\n",
        " '/Users/tdm/anaconda/python.app/Contents/lib/python27.zip',\n",
        " '/Users/tdm/anaconda/python.app/Contents/lib/python2.7',\n",
        " '/Users/tdm/anaconda/python.app/Contents/lib/python2.7/plat-darwin',\n",
        " '/Users/tdm/anaconda/python.app/Contents/lib/python2.7/plat-mac',\n",
        " '/Users/tdm/anaconda/python.app/Contents/lib/python2.7/plat-mac/lib-scriptpackages',\n",
        " '/Users/tdm/anaconda/python.app/Contents/lib/python2.7/lib-tk',\n",
        " '/Users/tdm/anaconda/python.app/Contents/lib/python2.7/lib-old',\n",
        " '/Users/tdm/anaconda/python.app/Contents/lib/python2.7/lib-dynload',\n",
        " '/Users/tdm/anaconda/lib/python2.7/site-packages/PIL',\n",
        " '/Users/tdm/anaconda/lib/python2.7/site-packages/runipy-0.1.0-py2.7.egg',\n",
        " '/Users/tdm/anaconda/lib/python2.7/site-packages/setuptools-14.3-py2.7.egg',\n",
        " '/Users/tdm/anaconda/lib/python2.7/site-packages/runipy-0.1.0-py2.7.egg',\n",
        " '/Users/tdm/anaconda/lib/python2.7/site-packages/setuptools-14.3-py2.7.egg',\n",
        " '/Users/tdm/anaconda/lib/python2.7/site-packages/IPython/extensions',\n",
        " '/path/to/my/module',\n",
        " '/path/to/my/module']"
       ]
      }
     ],
     "prompt_number": 145
    },
    {
     "cell_type": "code",
     "collapsed": false,
     "input": [
      "pwd"
     ],
     "language": "python",
     "metadata": {},
     "outputs": [
      {
       "metadata": {},
       "output_type": "pyout",
       "prompt_number": 146,
       "text": [
        "u'/Users/tdm/repositories/usrp-sciprog/day2'"
       ]
      }
     ],
     "prompt_number": 146
    },
    {
     "cell_type": "code",
     "collapsed": false,
     "input": [
      "%%file mymodule.py\n",
      "\n",
      "x = 3"
     ],
     "language": "python",
     "metadata": {},
     "outputs": [
      {
       "output_type": "stream",
       "stream": "stdout",
       "text": [
        "Overwriting mymodule.py\n"
       ]
      }
     ],
     "prompt_number": 175
    },
    {
     "cell_type": "code",
     "collapsed": false,
     "input": [
      "ls"
     ],
     "language": "python",
     "metadata": {},
     "outputs": [
      {
       "output_type": "stream",
       "stream": "stdout",
       "text": [
        "HSC-explore.ipynb      \u001b[34mexercises\u001b[m\u001b[m/             outline.md\r\n",
        "\u001b[34mdata\u001b[m\u001b[m/                  exercises.md           python-overview.ipynb\r\n",
        "day1_feedback.md       mymodule.py\r\n",
        "exercise_feedback.md   mymodule.pyc\r\n"
       ]
      }
     ],
     "prompt_number": 176
    },
    {
     "cell_type": "code",
     "collapsed": false,
     "input": [
      "import mymodule\n",
      "mymodule.x"
     ],
     "language": "python",
     "metadata": {},
     "outputs": [
      {
       "metadata": {},
       "output_type": "pyout",
       "prompt_number": 177,
       "text": [
        "3"
       ]
      }
     ],
     "prompt_number": 177
    },
    {
     "cell_type": "code",
     "collapsed": false,
     "input": [
      "! mkdir mymodule2"
     ],
     "language": "python",
     "metadata": {},
     "outputs": [],
     "prompt_number": 178
    },
    {
     "cell_type": "code",
     "collapsed": false,
     "input": [
      "%%file mymodule2/__init__.py\n",
      "\n",
      "from thing import *"
     ],
     "language": "python",
     "metadata": {},
     "outputs": [
      {
       "output_type": "stream",
       "stream": "stdout",
       "text": [
        "Writing mymodule2/__init__.py\n"
       ]
      }
     ],
     "prompt_number": 179
    },
    {
     "cell_type": "code",
     "collapsed": false,
     "input": [
      "%%file mymodule2/thing.py\n",
      "\n",
      "x = 5"
     ],
     "language": "python",
     "metadata": {},
     "outputs": [
      {
       "output_type": "stream",
       "stream": "stdout",
       "text": [
        "Writing mymodule2/thing.py\n"
       ]
      }
     ],
     "prompt_number": 180
    },
    {
     "cell_type": "code",
     "collapsed": false,
     "input": [
      "ls"
     ],
     "language": "python",
     "metadata": {},
     "outputs": [
      {
       "output_type": "stream",
       "stream": "stdout",
       "text": [
        "HSC-explore.ipynb      \u001b[34mexercises\u001b[m\u001b[m/             \u001b[34mmymodule2\u001b[m\u001b[m/\r\n",
        "\u001b[34mdata\u001b[m\u001b[m/                  exercises.md           outline.md\r\n",
        "day1_feedback.md       mymodule.py            python-overview.ipynb\r\n",
        "exercise_feedback.md   mymodule.pyc\r\n"
       ]
      }
     ],
     "prompt_number": 173
    },
    {
     "cell_type": "code",
     "collapsed": false,
     "input": [
      "ls mymodule2"
     ],
     "language": "python",
     "metadata": {},
     "outputs": [
      {
       "output_type": "stream",
       "stream": "stdout",
       "text": [
        "__init__.py  thing.py\r\n"
       ]
      }
     ],
     "prompt_number": 181
    },
    {
     "cell_type": "code",
     "collapsed": false,
     "input": [
      "import mymodule2\n",
      "mymodule2.x"
     ],
     "language": "python",
     "metadata": {},
     "outputs": [
      {
       "metadata": {},
       "output_type": "pyout",
       "prompt_number": 182,
       "text": [
        "5"
       ]
      }
     ],
     "prompt_number": 182
    },
    {
     "cell_type": "code",
     "collapsed": false,
     "input": [],
     "language": "python",
     "metadata": {},
     "outputs": []
    }
   ],
   "metadata": {}
  }
 ]
}