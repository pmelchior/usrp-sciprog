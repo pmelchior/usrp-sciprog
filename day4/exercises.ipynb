{
 "metadata": {
  "name": "",
  "signature": "sha256:3522e64f20dfdd23ce8ef95a6292c1a9867e26db9025ae0d976b08571e36bda1"
 },
 "nbformat": 3,
 "nbformat_minor": 0,
 "worksheets": [
  {
   "cells": [
    {
     "cell_type": "heading",
     "level": 1,
     "metadata": {},
     "source": [
      "Exercises for Catalogs and Colors"
     ]
    },
    {
     "cell_type": "heading",
     "level": 2,
     "metadata": {},
     "source": [
      "1. Converting to Magnitudes"
     ]
    },
    {
     "cell_type": "markdown",
     "metadata": {},
     "source": [
      "Write a function that takes a FITS table (a special 1-d `numpy.ndarray`, as we've discussed), a magnitude zeropoint ($m_0$), and a `dict` that maps the name of the filter to the name of a flux column, and returns a `dict` of arrays of magnitudes.  In other words, I should be able to call:"
     ]
    },
    {
     "cell_type": "code",
     "collapsed": true,
     "input": [
      "mags = getMagnitudes(table, magzero, {\"r\": \"R_FLUX_KRON\", \"i\": \"I_FLUX_KRON\"})"
     ],
     "language": "python",
     "metadata": {},
     "outputs": []
    },
    {
     "cell_type": "markdown",
     "metadata": {},
     "source": [
      "...and be able to say `mags[\"r\"]` to get a `numpy.ndarray` of all the *r* magnitudes."
     ]
    },
    {
     "cell_type": "heading",
     "level": 2,
     "metadata": {},
     "source": [
      "2. Filtering the catalog"
     ]
    },
    {
     "cell_type": "markdown",
     "metadata": {},
     "source": [
      "Modify your function to only include rows where none of the magnitudes are NaN or infinite.  Some `numpy` functions you may want to look up and use:\n",
      " - `numpy.logical_and`\n",
      " - `numpy.isfinite` (note that this can also help check for NaNs)\n",
      "Make sure each magnitude array your function returns is consistent (i.e. they all include the same rows).  So you can't just exclude the NaN $r$ magnitudes from the $r$ array, while leaving them in the $i$ array."
     ]
    },
    {
     "cell_type": "heading",
     "level": 2,
     "metadata": {},
     "source": [
      "3. A Color-Color Plot"
     ]
    },
    {
     "cell_type": "markdown",
     "metadata": {},
     "source": [
      "Make a plot of $g-r$ vs $i-z$, using your function to extract magnitudes from the catalog.  Use `27.0` for the magnitude zeropoint, and the `KRON` fluxes in the catalog."
     ]
    },
    {
     "cell_type": "heading",
     "level": 2,
     "metadata": {},
     "source": [
      "4. A Color-Magnitude Plot"
     ]
    },
    {
     "cell_type": "markdown",
     "metadata": {},
     "source": [
      "Make a plot of $r$ vs $g-r$.  This time use `PSF` fluxes from the catalog, again with `magzero=27.0`."
     ]
    },
    {
     "cell_type": "heading",
     "level": 2,
     "metadata": {},
     "source": [
      "5. High-Dimensional Plotting"
     ]
    },
    {
     "cell_type": "markdown",
     "metadata": {},
     "source": [
      "We have 5 different filters, so we'd really like to plot a 5-dimensional space.  Since the magnitudes are relatively similar for a single object, we're best off plotting one magnitude against four colors.\n",
      "\n",
      "Of course, a single scatter plot can only plot two dimensions at once, so we'll have to be creative to visualize them all at once.  Some things we could consider:\n",
      " - Using different colors or different markers for different axes.\n",
      " - A grid of scatter plots, where each row has the same y-axis and each column has the same x-axis.\n",
      " - 3-d plots.\n",
      " \n",
      "Matplotlib can do all of these, and you can find lots of examples to start from here: http://matplotlib.org/gallery.html\n",
      "\n",
      "Do some experimentation (or some educated guessing) and try to find a plot (or set of related plots) that lets you see the most structure in our 5-dimensional space - imagine that we're trying to identify different populations of objects based on their magnitudes in different filters.  You don't have to try all of the kinds of plots above, and you don't even have to use all of the magnitudes - if you can make a case that most of the information in one magnitude (or color) is redundant with another one that you are including (so ideally, if you choose not to include one magnitude in your favorite plots, you should have another plot that shows why you think it's not very helpful)."
     ]
    }
   ],
   "metadata": {}
  }
 ]
}