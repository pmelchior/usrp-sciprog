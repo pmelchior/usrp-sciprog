{
 "cells": [
  {
   "cell_type": "code",
   "execution_count": 1,
   "metadata": {
    "collapsed": true
   },
   "outputs": [],
   "source": [
    "import astropy.io.fits\n",
    "import numpy as np"
   ]
  },
  {
   "cell_type": "code",
   "execution_count": 2,
   "metadata": {
    "collapsed": true
   },
   "outputs": [],
   "source": [
    "fits = astropy.io.fits.open(\"HSC_grizy_example.fits\")\n",
    "table = fits[1].data"
   ]
  },
  {
   "cell_type": "code",
   "execution_count": 15,
   "metadata": {
    "collapsed": true
   },
   "outputs": [],
   "source": [
    "def getMagnitudes(table, magzero, fluxes):\n",
    "\n",
    "    \"\"\"\n",
    "    returns the magnitudes of the fluxes through each filter of HSC\n",
    "    \"\"\"\n",
    "    result = {}\n",
    "\n",
    "    mask = np.ones(len(table), dtype=bool)\n",
    "\n",
    "    for k,v in fluxes.items():\n",
    "        mask = np.logical_and(mask, np.isfinite(table[v]))\n",
    "        mask = np.logical_and(mask,table[v] > 0.0)\n",
    "\n",
    "    subset = table[mask]\n",
    "\n",
    "    for k,v in fluxes.items():\n",
    "        result[k] = flux_to_mag(subset[v],magzero)\n",
    "    return result"
   ]
  },
  {
   "cell_type": "code",
   "execution_count": 16,
   "metadata": {
    "collapsed": true
   },
   "outputs": [],
   "source": [
    "def flux_to_mag(flux,magzero):\n",
    "    \"\"\"\n",
    "    converts a flux to a magnitudes\n",
    "    \"\"\"\n",
    "    return -2.5*np.log10(flux) + magzero"
   ]
  },
  {
   "cell_type": "code",
   "execution_count": 17,
   "metadata": {
    "collapsed": false
   },
   "outputs": [
    {
     "name": "stderr",
     "output_type": "stream",
     "text": [
      "/Users/nmcstaff/anaconda/lib/python2.7/site-packages/IPython/kernel/__main__.py:12: RuntimeWarning: invalid value encountered in greater\n"
     ]
    }
   ],
   "source": [
    "mags = getMagnitudes(table,27.0,{'r':'R_FLUX_KRON','i':'I_FLUX_KRON','g':'G_FLUX_KRON','z':'Z_FLUX_KRON'})"
   ]
  },
  {
   "cell_type": "code",
   "execution_count": 18,
   "metadata": {
    "collapsed": true
   },
   "outputs": [],
   "source": [
    "import matplotlib.pyplot as plt\n",
    "%matplotlib inline"
   ]
  },
  {
   "cell_type": "code",
   "execution_count": 21,
   "metadata": {
    "collapsed": false
   },
   "outputs": [],
   "source": [
    "gminusr = mags['g'] - mags['r']"
   ]
  },
  {
   "cell_type": "code",
   "execution_count": 24,
   "metadata": {
    "collapsed": true
   },
   "outputs": [],
   "source": [
    "iminusz = mags['i'] - mags['z']"
   ]
  },
  {
   "cell_type": "code",
   "execution_count": 25,
   "metadata": {
    "collapsed": false
   },
   "outputs": [
    {
     "data": {
      "text/plain": [
       "[<matplotlib.lines.Line2D at 0x108dfef50>]"
      ]
     },
     "execution_count": 25,
     "metadata": {},
     "output_type": "execute_result"
    },
    {
     "data": {
      "image/png": "[encoded data removed]",
      "text/plain": [
       "<matplotlib.figure.Figure at 0x106eb3850>"
      ]
     },
     "metadata": {},
     "output_type": "display_data"
    }
   ],
   "source": [
    "plt.plot(gminusr,iminusz,'.')"
   ]
  },
  {
   "cell_type": "code",
   "execution_count": 26,
   "metadata": {
    "collapsed": false
   },
   "outputs": [
    {
     "name": "stderr",
     "output_type": "stream",
     "text": [
      "/Users/nmcstaff/anaconda/lib/python2.7/site-packages/IPython/kernel/__main__.py:12: RuntimeWarning: invalid value encountered in greater\n"
     ]
    }
   ],
   "source": [
    "magspsf = getMagnitudes(table,27.0,{'r':'R_FLUX_PSF','i':'I_FLUX_PSF','g':'G_FLUX_PSF','z':'Z_FLUX_PSF'})"
   ]
  },
  {
   "cell_type": "code",
   "execution_count": 27,
   "metadata": {
    "collapsed": true
   },
   "outputs": [],
   "source": [
    "gminusr = magspsf['g'] - magspsf['r']"
   ]
  },
  {
   "cell_type": "code",
   "execution_count": null,
   "metadata": {
    "collapsed": true
   },
   "outputs": [],
   "source": []
  }
 ],
 "metadata": {
  "kernelspec": {
   "display_name": "Python 2",
   "language": "python",
   "name": "python2"
  },
  "language_info": {
   "codemirror_mode": {
    "name": "ipython",
    "version": 2
   },
   "file_extension": ".py",
   "mimetype": "text/x-python",
   "name": "python",
   "nbconvert_exporter": "python",
   "pygments_lexer": "ipython2",
   "version": "2.7.9"
  }
 },
 "nbformat": 4,
 "nbformat_minor": 0
}
