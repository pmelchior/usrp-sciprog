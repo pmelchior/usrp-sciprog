{
 "metadata": {
  "name": "",
  "signature": "sha256:28976de9e89cda355288917f6c0b9a95219c497c0c71a726f4ef3fa93ee3ee73"
 },
 "nbformat": 3,
 "nbformat_minor": 0,
 "worksheets": [
  {
   "cells": [
    {
     "cell_type": "heading",
     "level": 1,
     "metadata": {},
     "source": [
      "FITS Catalogs in Python"
     ]
    },
    {
     "cell_type": "markdown",
     "metadata": {},
     "source": [
      "Let's ignore, for now, the details of we build astronomical catalogs, and start with one that's already been created.  This is included in the GitHub repo (if you don't have it checked out, you can find it [here](https://github.com/timothydmorton/usrp-sciprog/blob/master/data/HSC_grizy_example.fits)).  It's in a very common astronomical file format called FITS.  It's an old format, and it's showing its age in a lot of ways, but it's still pretty capable.\n",
      "\n",
      "Each FITS file has multiple \"Header/Data Units\" (HDUs), each of which contains a header (a list of key/value pairs, like a somwhat clunky Python dict), and some binary data (which we'll read into NumPy arrays).\n",
      "\n",
      "We can load a FITS file using the astropy package, which should have been installed as part of anaconda:"
     ]
    },
    {
     "cell_type": "code",
     "collapsed": false,
     "input": [
      "import astropy.io.fits\n",
      "import numpy\n",
      "fits = astropy.io.fits.open(\"../data/HSC_grizy_example.fits\")"
     ],
     "language": "python",
     "metadata": {},
     "outputs": [],
     "prompt_number": 14
    },
    {
     "cell_type": "markdown",
     "metadata": {},
     "source": [
      "The object we get back (called `fits` here) is a special kind of list, with each item an HDU:"
     ]
    },
    {
     "cell_type": "code",
     "collapsed": false,
     "input": [
      "len(fits)"
     ],
     "language": "python",
     "metadata": {},
     "outputs": [
      {
       "metadata": {},
       "output_type": "pyout",
       "prompt_number": 15,
       "text": [
        "2"
       ]
      }
     ],
     "prompt_number": 15
    },
    {
     "cell_type": "markdown",
     "metadata": {},
     "source": [
      "But this file is only supposed to include one table - let's see what's going on by looking at the header of the first (0th) HDU:"
     ]
    },
    {
     "cell_type": "code",
     "collapsed": false,
     "input": [
      "fits[0].header"
     ],
     "language": "python",
     "metadata": {},
     "outputs": [
      {
       "metadata": {},
       "output_type": "pyout",
       "prompt_number": 16,
       "text": [
        "SIMPLE  =                    T /Dummy Created by MWRFITS v1.11a                 \n",
        "BITPIX  =                    8 /Dummy primary header created by MWRFITS         \n",
        "NAXIS   =                    0 /No data is associated with this header          \n",
        "EXTEND  =                    T /Extensions may (will!) be present               "
       ]
      }
     ],
     "prompt_number": 16
    },
    {
     "cell_type": "markdown",
     "metadata": {},
     "source": [
      "There's not much here, but the important piece of information is that `NAXIS=0` - that means the data array has zero dimensions.  This is one of the weird historical artifacts of the FITS standard: we're not allowed to put a binary table in the first HDU, so there's an empty dummy HDU there instead.  The next HDU is the one we want.  You can look at its header if you'd like to see what it looks like on disk, but astropy uses everything there to create its view of the data part of HDU, so we can just look at that:"
     ]
    },
    {
     "cell_type": "code",
     "collapsed": false,
     "input": [
      "table = fits[1].data"
     ],
     "language": "python",
     "metadata": {},
     "outputs": [],
     "prompt_number": 18
    },
    {
     "cell_type": "markdown",
     "metadata": {},
     "source": [
      "I said this would be a numpy.ndarray, but if we look at its type, we can see that it isn't, at least not exactly:"
     ]
    },
    {
     "cell_type": "code",
     "collapsed": false,
     "input": [
      "type(table)"
     ],
     "language": "python",
     "metadata": {},
     "outputs": [
      {
       "metadata": {},
       "output_type": "pyout",
       "prompt_number": 17,
       "text": [
        "astropy.io.fits.fitsrec.FITS_rec"
       ]
      }
     ],
     "prompt_number": 17
    },
    {
     "cell_type": "markdown",
     "metadata": {},
     "source": [
      "It's actually a new type that *inherits* from `numpy.ndarray`, which we can verify like this:"
     ]
    },
    {
     "cell_type": "code",
     "collapsed": false,
     "input": [
      "isinstance(table, numpy.ndarray)"
     ],
     "language": "python",
     "metadata": {},
     "outputs": [
      {
       "metadata": {},
       "output_type": "pyout",
       "prompt_number": 19,
       "text": [
        "True"
       ]
      }
     ],
     "prompt_number": 19
    },
    {
     "cell_type": "heading",
     "level": 3,
     "metadata": {},
     "source": [
      "Field Names and Types"
     ]
    },
    {
     "cell_type": "markdown",
     "metadata": {},
     "source": [
      "This is a strange array: instead of just being a 1-d array of simple numbers, or a 2-d array of simple numbers, it's a table: a 1-d array where each column can have a different type.  We can look at that type by looking at the `dtype` property:"
     ]
    },
    {
     "cell_type": "code",
     "collapsed": false,
     "input": [
      "table.dtype"
     ],
     "language": "python",
     "metadata": {},
     "outputs": [
      {
       "metadata": {},
       "output_type": "pyout",
       "prompt_number": 26,
       "text": [
        "dtype([('ID', '>i8'), ('RA', '>f8'), ('DC', '>f8'), ('PARENT', '>i8'), ('DEBLEND_NCHILD', '>i4'), ('G_SHAPE_SDSS', '>f8', (3,)), ('G_FLUX_KRON_RADIUS', '>f8'), ('G_FLUX_KRON', '>f8'), ('G_FLUX_KRON_ERR', '>f8'), ('G_FLUX_PSF', '>f8'), ('G_FLUX_PSF_ERR', '>f8'), ('G_FLUX_SINC', '>f8'), ('G_FLUX_SINC_ERR', '>f8'), ('R_SHAPE_SDSS', '>f8', (3,)), ('R_FLUX_KRON_RADIUS', '>f8'), ('R_FLUX_KRON', '>f8'), ('R_FLUX_KRON_ERR', '>f8'), ('R_FLUX_PSF', '>f8'), ('R_FLUX_PSF_ERR', '>f8'), ('R_FLUX_SINC', '>f8'), ('R_FLUX_SINC_ERR', '>f8'), ('I_SHAPE_SDSS', '>f8', (3,)), ('I_FLUX_KRON_RADIUS', '>f8'), ('I_FLUX_KRON', '>f8'), ('I_FLUX_KRON_ERR', '>f8'), ('I_FLUX_PSF', '>f8'), ('I_FLUX_PSF_ERR', '>f8'), ('I_FLUX_SINC', '>f8'), ('I_FLUX_SINC_ERR', '>f8'), ('Z_SHAPE_SDSS', '>f8', (3,)), ('Z_FLUX_KRON_RADIUS', '>f8'), ('Z_FLUX_KRON', '>f8'), ('Z_FLUX_KRON_ERR', '>f8'), ('Z_FLUX_PSF', '>f8'), ('Z_FLUX_PSF_ERR', '>f8'), ('Z_FLUX_SINC', '>f8'), ('Z_FLUX_SINC_ERR', '>f8'), ('Y_SHAPE_SDSS', '>f8', (3,)), ('Y_FLUX_KRON_RADIUS', '>f8'), ('Y_FLUX_KRON', '>f8'), ('Y_FLUX_KRON_ERR', '>f8'), ('Y_FLUX_PSF', '>f8'), ('Y_FLUX_PSF_ERR', '>f8'), ('Y_FLUX_SINC', '>f8'), ('Y_FLUX_SINC_ERR', '>f8'), ('GRID', 'S4')])"
       ]
      }
     ],
     "prompt_number": 26
    },
    {
     "cell_type": "markdown",
     "metadata": {},
     "source": [
      "It's a bit of a mess to read, but you can see that it's like a list (name, type) pairs, one for each column.  The types strings use a code system common to all NumPy arrays.  I won't go into the details, but:\n",
      " - `>f8` is a floating point number taking up 8 bytes\n",
      " - `>i4` is an integer taking up 4 bytes\n",
      "\n",
      "But some of the fields are a little weirder; let's take a look at the type of \"R_SHAPE_SDSS\":"
     ]
    },
    {
     "cell_type": "code",
     "collapsed": false,
     "input": [
      "table.dtype[\"R_SHAPE_SDSS\"]"
     ],
     "language": "python",
     "metadata": {},
     "outputs": [
      {
       "metadata": {},
       "output_type": "pyout",
       "prompt_number": 27,
       "text": [
        "dtype(('>f8', (3,)))"
       ]
      }
     ],
     "prompt_number": 27
    },
    {
     "cell_type": "markdown",
     "metadata": {},
     "source": [
      "This means the column is actually 3 columns that are grouped together, each one an 8-byte floating point number.  In this case, those three numbers are the parameters of an ellipse that roughly measures the shape and size of the object - but we'll get back to that in a future lesson."
     ]
    },
    {
     "cell_type": "heading",
     "level": 3,
     "metadata": {},
     "source": [
      "Row Access"
     ]
    },
    {
     "cell_type": "markdown",
     "metadata": {},
     "source": [
      "We can iterate over a table's rows (also called \"records\") as we would any other Python sequence, then access the elements of each row as if it were a `dict`:"
     ]
    },
    {
     "cell_type": "code",
     "collapsed": false,
     "input": [
      "for record in table[:5]:\n",
      "    print(\"r={r}, i={i}\".format(r=record[\"R_FLUX_KRON\"], i=record[\"I_FLUX_KRON\"]))"
     ],
     "language": "python",
     "metadata": {},
     "outputs": [
      {
       "output_type": "stream",
       "stream": "stdout",
       "text": [
        "r=876.988301094, i=713.24841364\n",
        "r=11.4040837855, i=8.52686826792\n",
        "r=312.932101173, i=238.390369401\n",
        "r=23.0117455662, i=12.980668159\n",
        "r=11.0797875288, i=7.79981187479\n"
       ]
      }
     ],
     "prompt_number": 29
    },
    {
     "cell_type": "markdown",
     "metadata": {},
     "source": [
      "Note that we've used regular array slicing to limit the iteration to the first 5 rows, just as we would with a regular 1-d array."
     ]
    },
    {
     "cell_type": "heading",
     "level": 3,
     "metadata": {},
     "source": [
      "Column Access and Indexing"
     ]
    },
    {
     "cell_type": "markdown",
     "metadata": {},
     "source": [
      "More frequently, we'll want to access tables by column, which will give us a regular 1-d array for that column, which we can then plot.  To get column arrays, we can just treat the table like a `dict`.  Here's a histogram of flux values in the *r*-band:"
     ]
    },
    {
     "cell_type": "code",
     "collapsed": false,
     "input": [
      "from matplotlib import pyplot\n",
      "%matplotlib inline\n",
      "pyplot.hist(table[\"R_FLUX_KRON\"], bins=50)"
     ],
     "language": "python",
     "metadata": {},
     "outputs": [
      {
       "ename": "AttributeError",
       "evalue": "max must be larger than min in range parameter.",
       "output_type": "pyerr",
       "traceback": [
        "\u001b[1;31m---------------------------------------------------------------------------\u001b[0m\n\u001b[1;31mAttributeError\u001b[0m                            Traceback (most recent call last)",
        "\u001b[1;32m<ipython-input-49-a9f581d6e709>\u001b[0m in \u001b[0;36m<module>\u001b[1;34m()\u001b[0m\n\u001b[0;32m      1\u001b[0m \u001b[1;32mfrom\u001b[0m \u001b[0mmatplotlib\u001b[0m \u001b[1;32mimport\u001b[0m \u001b[0mpyplot\u001b[0m\u001b[1;33m\u001b[0m\u001b[0m\n\u001b[0;32m      2\u001b[0m \u001b[0mget_ipython\u001b[0m\u001b[1;33m(\u001b[0m\u001b[1;33m)\u001b[0m\u001b[1;33m.\u001b[0m\u001b[0mmagic\u001b[0m\u001b[1;33m(\u001b[0m\u001b[1;34mu'matplotlib inline'\u001b[0m\u001b[1;33m)\u001b[0m\u001b[1;33m\u001b[0m\u001b[0m\n\u001b[1;32m----> 3\u001b[1;33m \u001b[0mpyplot\u001b[0m\u001b[1;33m.\u001b[0m\u001b[0mhist\u001b[0m\u001b[1;33m(\u001b[0m\u001b[0mtable\u001b[0m\u001b[1;33m[\u001b[0m\u001b[1;34m\"R_FLUX_KRON\"\u001b[0m\u001b[1;33m]\u001b[0m\u001b[1;33m,\u001b[0m \u001b[0mbins\u001b[0m\u001b[1;33m=\u001b[0m\u001b[1;36m50\u001b[0m\u001b[1;33m)\u001b[0m\u001b[1;33m\u001b[0m\u001b[0m\n\u001b[0m",
        "\u001b[1;32m/usr/lib/pymodules/python2.7/matplotlib/pyplot.pyc\u001b[0m in \u001b[0;36mhist\u001b[1;34m(x, bins, range, normed, weights, cumulative, bottom, histtype, align, orientation, rwidth, log, color, label, stacked, hold, **kwargs)\u001b[0m\n\u001b[0;32m   2825\u001b[0m                       \u001b[0mhisttype\u001b[0m\u001b[1;33m=\u001b[0m\u001b[0mhisttype\u001b[0m\u001b[1;33m,\u001b[0m \u001b[0malign\u001b[0m\u001b[1;33m=\u001b[0m\u001b[0malign\u001b[0m\u001b[1;33m,\u001b[0m \u001b[0morientation\u001b[0m\u001b[1;33m=\u001b[0m\u001b[0morientation\u001b[0m\u001b[1;33m,\u001b[0m\u001b[1;33m\u001b[0m\u001b[0m\n\u001b[0;32m   2826\u001b[0m                       \u001b[0mrwidth\u001b[0m\u001b[1;33m=\u001b[0m\u001b[0mrwidth\u001b[0m\u001b[1;33m,\u001b[0m \u001b[0mlog\u001b[0m\u001b[1;33m=\u001b[0m\u001b[0mlog\u001b[0m\u001b[1;33m,\u001b[0m \u001b[0mcolor\u001b[0m\u001b[1;33m=\u001b[0m\u001b[0mcolor\u001b[0m\u001b[1;33m,\u001b[0m \u001b[0mlabel\u001b[0m\u001b[1;33m=\u001b[0m\u001b[0mlabel\u001b[0m\u001b[1;33m,\u001b[0m\u001b[1;33m\u001b[0m\u001b[0m\n\u001b[1;32m-> 2827\u001b[1;33m                       stacked=stacked, **kwargs)\n\u001b[0m\u001b[0;32m   2828\u001b[0m         \u001b[0mdraw_if_interactive\u001b[0m\u001b[1;33m(\u001b[0m\u001b[1;33m)\u001b[0m\u001b[1;33m\u001b[0m\u001b[0m\n\u001b[0;32m   2829\u001b[0m     \u001b[1;32mfinally\u001b[0m\u001b[1;33m:\u001b[0m\u001b[1;33m\u001b[0m\u001b[0m\n",
        "\u001b[1;32m/usr/lib/pymodules/python2.7/matplotlib/axes.pyc\u001b[0m in \u001b[0;36mhist\u001b[1;34m(self, x, bins, range, normed, weights, cumulative, bottom, histtype, align, orientation, rwidth, log, color, label, stacked, **kwargs)\u001b[0m\n\u001b[0;32m   8324\u001b[0m             \u001b[1;31m# this will automatically overwrite bins,\u001b[0m\u001b[1;33m\u001b[0m\u001b[1;33m\u001b[0m\u001b[0m\n\u001b[0;32m   8325\u001b[0m             \u001b[1;31m# so that each histogram uses the same bins\u001b[0m\u001b[1;33m\u001b[0m\u001b[1;33m\u001b[0m\u001b[0m\n\u001b[1;32m-> 8326\u001b[1;33m             \u001b[0mm\u001b[0m\u001b[1;33m,\u001b[0m \u001b[0mbins\u001b[0m \u001b[1;33m=\u001b[0m \u001b[0mnp\u001b[0m\u001b[1;33m.\u001b[0m\u001b[0mhistogram\u001b[0m\u001b[1;33m(\u001b[0m\u001b[0mx\u001b[0m\u001b[1;33m[\u001b[0m\u001b[0mi\u001b[0m\u001b[1;33m]\u001b[0m\u001b[1;33m,\u001b[0m \u001b[0mbins\u001b[0m\u001b[1;33m,\u001b[0m \u001b[0mweights\u001b[0m\u001b[1;33m=\u001b[0m\u001b[0mw\u001b[0m\u001b[1;33m[\u001b[0m\u001b[0mi\u001b[0m\u001b[1;33m]\u001b[0m\u001b[1;33m,\u001b[0m \u001b[1;33m**\u001b[0m\u001b[0mhist_kwargs\u001b[0m\u001b[1;33m)\u001b[0m\u001b[1;33m\u001b[0m\u001b[0m\n\u001b[0m\u001b[0;32m   8327\u001b[0m             \u001b[0mm\u001b[0m \u001b[1;33m=\u001b[0m \u001b[0mm\u001b[0m\u001b[1;33m.\u001b[0m\u001b[0mastype\u001b[0m\u001b[1;33m(\u001b[0m\u001b[0mfloat\u001b[0m\u001b[1;33m)\u001b[0m \u001b[1;31m# causes problems later if it's an int\u001b[0m\u001b[1;33m\u001b[0m\u001b[0m\n\u001b[0;32m   8328\u001b[0m             \u001b[1;32mif\u001b[0m \u001b[0mmlast\u001b[0m \u001b[1;32mis\u001b[0m \u001b[0mNone\u001b[0m\u001b[1;33m:\u001b[0m\u001b[1;33m\u001b[0m\u001b[0m\n",
        "\u001b[1;32m/usr/lib/python2.7/dist-packages/numpy/lib/function_base.pyc\u001b[0m in \u001b[0;36mhistogram\u001b[1;34m(a, bins, range, normed, weights, density)\u001b[0m\n\u001b[0;32m    163\u001b[0m         \u001b[1;32mif\u001b[0m \u001b[1;33m(\u001b[0m\u001b[0mmn\u001b[0m \u001b[1;33m>\u001b[0m \u001b[0mmx\u001b[0m\u001b[1;33m)\u001b[0m\u001b[1;33m:\u001b[0m\u001b[1;33m\u001b[0m\u001b[0m\n\u001b[0;32m    164\u001b[0m             raise AttributeError(\n\u001b[1;32m--> 165\u001b[1;33m                 'max must be larger than min in range parameter.')\n\u001b[0m\u001b[0;32m    166\u001b[0m \u001b[1;33m\u001b[0m\u001b[0m\n\u001b[0;32m    167\u001b[0m     \u001b[1;32mif\u001b[0m \u001b[1;32mnot\u001b[0m \u001b[0miterable\u001b[0m\u001b[1;33m(\u001b[0m\u001b[0mbins\u001b[0m\u001b[1;33m)\u001b[0m\u001b[1;33m:\u001b[0m\u001b[1;33m\u001b[0m\u001b[0m\n",
        "\u001b[1;31mAttributeError\u001b[0m: max must be larger than min in range parameter."
       ]
      },
      {
       "metadata": {},
       "output_type": "display_data",
       "png": "[encoded data removed]",
       "text": [
        "<matplotlib.figure.Figure at 0x7fc0b1e57d50>"
       ]
      }
     ],
     "prompt_number": 49
    },
    {
     "cell_type": "markdown",
     "metadata": {},
     "source": [
      "So, that didn't work.  The reason is that some of the elements in the array are \"NaN\", which means \"Not a Number\":"
     ]
    },
    {
     "cell_type": "code",
     "collapsed": false,
     "input": [
      "table[\"R_FLUX_KRON\"].min()"
     ],
     "language": "python",
     "metadata": {},
     "outputs": [
      {
       "metadata": {},
       "output_type": "pyout",
       "prompt_number": 35,
       "text": [
        "nan"
       ]
      }
     ],
     "prompt_number": 35
    },
    {
     "cell_type": "markdown",
     "metadata": {},
     "source": [
      "NaN is a special value that floating point numbers can have that's used when an expression doesn't have a meaningful result, or one that can't be expressed with regular floating point numbers.  For instance:"
     ]
    },
    {
     "cell_type": "code",
     "collapsed": false,
     "input": [
      "numpy.sqrt(-1.0)"
     ],
     "language": "python",
     "metadata": {},
     "outputs": [
      {
       "output_type": "stream",
       "stream": "stderr",
       "text": [
        "-c:1: RuntimeWarning: invalid value encountered in sqrt\n"
       ]
      },
      {
       "metadata": {},
       "output_type": "pyout",
       "prompt_number": 37,
       "text": [
        "nan"
       ]
      }
     ],
     "prompt_number": 37
    },
    {
     "cell_type": "markdown",
     "metadata": {},
     "source": [
      "The table here has NaNs because the algorithms used to measure some of the quantities failed for some objects.  This is completely normal - it's rare to find an astronomical catalog that doesn't contain a few garbage objects initially, or at least some objects so faint we couldn't measure them well.  For now we just want to remove them from the catalog, because (as we've seen) NaNs cause all kinds of problems:"
     ]
    },
    {
     "cell_type": "code",
     "collapsed": false,
     "input": [
      "5 < float(\"NaN\") or 5 >= float(\"NaN\")   # this means we can't sort NaNs, as we'd need to to make a histogram"
     ],
     "language": "python",
     "metadata": {},
     "outputs": [
      {
       "metadata": {},
       "output_type": "pyout",
       "prompt_number": 38,
       "text": [
        "False"
       ]
      }
     ],
     "prompt_number": 38
    },
    {
     "cell_type": "code",
     "collapsed": false,
     "input": [
      "3.1 + float(\"NaN\")  # NaNs are infectious: any operation involving them returns a NaN"
     ],
     "language": "python",
     "metadata": {},
     "outputs": [
      {
       "metadata": {},
       "output_type": "pyout",
       "prompt_number": 39,
       "text": [
        "nan"
       ]
      }
     ],
     "prompt_number": 39
    },
    {
     "cell_type": "markdown",
     "metadata": {},
     "source": [
      "So, how do we remove them?  First we can identify them with the numpy function `isnan`:"
     ]
    },
    {
     "cell_type": "code",
     "collapsed": false,
     "input": [
      "numpy.isnan(table[\"R_FLUX_KRON\"])"
     ],
     "language": "python",
     "metadata": {},
     "outputs": [
      {
       "metadata": {},
       "output_type": "pyout",
       "prompt_number": 40,
       "text": [
        "array([False, False, False, ..., False, False, False], dtype=bool)"
       ]
      }
     ],
     "prompt_number": 40
    },
    {
     "cell_type": "markdown",
     "metadata": {},
     "source": [
      "The result is an array with that's `False` for every row that isn't NaN, and `True` for each one that is (we can't see any here because the result is abbreviated - but even one NaN will cause problems).  But we want the opposite of this: we want an array that's `True` for elements that aren't NaN.  For that, we can use `numpy.logical_not`:"
     ]
    },
    {
     "cell_type": "code",
     "collapsed": false,
     "input": [
      "mask = numpy.logical_not(numpy.isnan(table[\"R_FLUX_KRON\"]))"
     ],
     "language": "python",
     "metadata": {},
     "outputs": [],
     "prompt_number": 42
    },
    {
     "cell_type": "markdown",
     "metadata": {},
     "source": [
      "We can now use this to get a subset of the table that only includes rows where the flux is not NaN, and make our histogram:"
     ]
    },
    {
     "cell_type": "code",
     "collapsed": false,
     "input": [
      "subset = table[mask]\n",
      "pyplot.hist(subset[\"R_FLUX_KRON\"], bins=50)"
     ],
     "language": "python",
     "metadata": {},
     "outputs": [
      {
       "metadata": {},
       "output_type": "pyout",
       "prompt_number": 50,
       "text": [
        "(array([  3.89100000e+03,   1.60000000e+01,   4.00000000e+00,\n",
        "          3.00000000e+00,   4.00000000e+00,   5.00000000e+00,\n",
        "          1.00000000e+00,   0.00000000e+00,   0.00000000e+00,\n",
        "          0.00000000e+00,   0.00000000e+00,   0.00000000e+00,\n",
        "          0.00000000e+00,   0.00000000e+00,   0.00000000e+00,\n",
        "          0.00000000e+00,   0.00000000e+00,   0.00000000e+00,\n",
        "          0.00000000e+00,   0.00000000e+00,   0.00000000e+00,\n",
        "          0.00000000e+00,   0.00000000e+00,   0.00000000e+00,\n",
        "          0.00000000e+00,   0.00000000e+00,   0.00000000e+00,\n",
        "          0.00000000e+00,   0.00000000e+00,   0.00000000e+00,\n",
        "          0.00000000e+00,   0.00000000e+00,   0.00000000e+00,\n",
        "          0.00000000e+00,   0.00000000e+00,   0.00000000e+00,\n",
        "          0.00000000e+00,   0.00000000e+00,   0.00000000e+00,\n",
        "          0.00000000e+00,   0.00000000e+00,   0.00000000e+00,\n",
        "          0.00000000e+00,   0.00000000e+00,   0.00000000e+00,\n",
        "          0.00000000e+00,   0.00000000e+00,   0.00000000e+00,\n",
        "          0.00000000e+00,   1.00000000e+00]),\n",
        " array([  -187.6756504 ,    996.91068506,   2181.49702051,   3366.08335597,\n",
        "          4550.66969143,   5735.25602688,   6919.84236234,   8104.42869779,\n",
        "          9289.01503325,  10473.6013687 ,  11658.18770416,  12842.77403961,\n",
        "         14027.36037507,  15211.94671052,  16396.53304598,  17581.11938143,\n",
        "         18765.70571689,  19950.29205234,  21134.8783878 ,  22319.46472325,\n",
        "         23504.05105871,  24688.63739416,  25873.22372962,  27057.81006507,\n",
        "         28242.39640053,  29426.98273598,  30611.56907144,  31796.15540689,\n",
        "         32980.74174235,  34165.3280778 ,  35349.91441326,  36534.50074871,\n",
        "         37719.08708417,  38903.67341962,  40088.25975508,  41272.84609053,\n",
        "         42457.43242599,  43642.01876144,  44826.6050969 ,  46011.19143236,\n",
        "         47195.77776781,  48380.36410327,  49564.95043872,  50749.53677418,\n",
        "         51934.12310963,  53118.70944509,  54303.29578054,  55487.882116  ,\n",
        "         56672.46845145,  57857.05478691,  59041.64112236]),\n",
        " <a list of 50 Patch objects>)"
       ]
      },
      {
       "metadata": {},
       "output_type": "display_data",
       "png": "[encoded data removed]",
       "text": [
        "<matplotlib.figure.Figure at 0x7fc0b19a03d0>"
       ]
      }
     ],
     "prompt_number": 50
    },
    {
     "cell_type": "markdown",
     "metadata": {},
     "source": [
      "It's not a very interesting plot, because the distribution is very steep, but we'll leave fixing that to an exercise."
     ]
    }
   ],
   "metadata": {}
  }
 ]
}