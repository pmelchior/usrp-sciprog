{
 "cells": [
  {
   "cell_type": "code",
   "execution_count": 3,
   "id": "d4ec3ade-4466-45a2-bf29-88e0b9415821",
   "metadata": {},
   "outputs": [],
   "source": [
    "import sys\n",
    "sys.path.insert(0,'_path_to_your_athena_code_/vis/python/')"
   ]
  },
  {
   "cell_type": "code",
   "execution_count": 4,
   "id": "e93d4707-8506-48fb-9822-04eaf1c85d26",
   "metadata": {},
   "outputs": [],
   "source": [
    "import athena_read"
   ]
  },
  {
   "cell_type": "code",
   "execution_count": 13,
   "id": "d2d6b1db-f6a4-43d4-b3d3-e8faac2d5480",
   "metadata": {},
   "outputs": [],
   "source": [
    "import matplotlib.pyplot as plt"
   ]
  },
  {
   "cell_type": "code",
   "execution_count": 20,
   "id": "59c87156-d426-454d-87df-7c48f7c00f56",
   "metadata": {},
   "outputs": [],
   "source": [
    "def plot_slice(filename, field = \"press\", **kwargs):\n",
    "    xfc,yfc,zfc,data = athena_read.vtk(filename)\n",
    "    plt.figure(figsize=(6,5))\n",
    "    plt.pcolormesh(xfc,yfc,data[field].squeeze(),**kwargs)\n",
    "    plt.xlabel(\"x\")\n",
    "    plt.ylabel(\"y\")\n",
    "    plt.colorbar(label=field)\n",
    "    plt.gca().set_aspect(\"equal\")"
   ]
  },
  {
   "cell_type": "code",
   "execution_count": 22,
   "id": "b437c78a-20dc-477b-b083-3e4717e6358d",
   "metadata": {},
   "outputs": [],
   "source": [
    "import glob\n",
    "import os"
   ]
  },
  {
   "cell_type": "code",
   "execution_count": 25,
   "id": "da8d0d30-8349-4c9b-9f3f-81f0122d6895",
   "metadata": {},
   "outputs": [],
   "source": [
    "base = \"_path_to_your_simulation_output_\"\n",
    "problem_id = \"OrszagTang\"\n",
    "files = glob.glob(os.path.join(base,f\"{problem_id}.joined.out2.*.vtk\"))"
   ]
  },
  {
   "cell_type": "code",
   "execution_count": 27,
   "id": "5bcf9ca0-8fe3-486f-a409-f34e9b1a3fc9",
   "metadata": {},
   "outputs": [],
   "source": [
    "plt_kwargs=dict(cmap=plt.cm.plasma, vmin=0, vmax=0.36)\n",
    "\n",
    "for f in files:\n",
    "    plot_slice(f, field=\"press\", **plt_kwargs)\n",
    "    plt.savefig(f.replace(\".vtk\",\".png\"))\n",
    "    plt.close()"
   ]
  },
  {
   "cell_type": "code",
   "execution_count": null,
   "id": "b6e198ab-bc32-4ff8-ab6c-761e043e8781",
   "metadata": {},
   "outputs": [],
   "source": []
  }
 ],
 "metadata": {
  "kernelspec": {
   "display_name": "usrp [~/.conda/envs/usrp/]",
   "language": "python",
   "name": "conda_usrp"
  },
  "language_info": {
   "codemirror_mode": {
    "name": "ipython",
    "version": 3
   },
   "file_extension": ".py",
   "mimetype": "text/x-python",
   "name": "python",
   "nbconvert_exporter": "python",
   "pygments_lexer": "ipython3",
   "version": "3.13.4"
  }
 },
 "nbformat": 4,
 "nbformat_minor": 5
}
