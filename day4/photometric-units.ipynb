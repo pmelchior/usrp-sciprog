{
 "metadata": {
  "name": "",
  "signature": "sha256:44882a4694df922188c64aea8e79b856842f13ac40cae1d7d7c1f674760d6d04"
 },
 "nbformat": 3,
 "nbformat_minor": 0,
 "worksheets": [
  {
   "cells": [
    {
     "cell_type": "heading",
     "level": 1,
     "metadata": {},
     "source": [
      "Photometric Units"
     ]
    },
    {
     "cell_type": "heading",
     "level": 2,
     "metadata": {},
     "source": [
      "Magnitudes"
     ]
    },
    {
     "cell_type": "markdown",
     "metadata": {},
     "source": [
      "Astronomers typically use a confusing unit for referring to luminosities, dating back to the ancient Greeks: magnitudes.  This is a *backwards*,  *logarithmic* system: smaller numbers correspond to brighter objects, and differences between magnitudes actually correspond to ratios between fluxes.\n",
      "\n",
      "In a typical astronomical image, what we measure is the number of photons in a pixel summed over the exposure time, through a particular wavelength filter.  We'll call that the *raw flux* $f$, and we relate that to the magnitude filter like this:\n",
      "\n",
      "$m = -2.5\\log_{10}(f) + m_0$\n",
      "\n",
      "We call $m_0$ the *magnitude zero point*, and it contains a lot of information:\n",
      " - the transparency of the atmosphere (unless this is a space telescope)\n",
      " - the quantum efficiency of the detectors (aka sensitivity)\n",
      " - the throughput of the filter and lenses\n",
      " - the reflectivity of the mirror\n",
      " \n",
      "Essentially, that zero point is a calibration factor that covers all of the things in the observational system that affect the fraction of photons we measure.  But we don't usually try to figure it out from first principles by measuring all of these effects separately.  Instead, we compare the fluxes we've measured for a set of bright *standard stars* which have been measured very carefully by other telescopes in the past, and we just set the magnitude zero point to whatever it needs to be to get the same magnitudes measured by those previous observations.  That's a lot more complicated in practice, because the zero point may be a function of position, and we have to average over many stars to determine it well enough.\n",
      "\n",
      "There two main systems of units for magnitudes, the newer *AB* system and the older *Vega* system.  The AB system can be *fairly* easily related directly to the number of photons (but it's still too complicated for us to bother with here), while the Vega system is all relative to the spectrum of a particular star."
     ]
    },
    {
     "cell_type": "heading",
     "level": 2,
     "metadata": {},
     "source": [
      "Filters and Transmission Curves"
     ]
    },
    {
     "cell_type": "markdown",
     "metadata": {},
     "source": [
      "Our definition of fluxes and magnitudes above depend on the filter used in the observation.  Each telescope actually has a different set of filters, but there are some standard filters that most telescopes try to approximate.  Going from blue to red, these are:\n",
      " - *u* (\"ultraviolet\"), near-UV and visible blue\n",
      " - *g* (\"green\"), the middle of the visible part of the spectrum\n",
      " - *r* (\"red\"), the red end of the visible part of the spectrum\n",
      " - *i* (\"infrared\"), the very red edge of the visible part of the spectrum, going into near-IR\n",
      " - *z* (\"we're out of good names\"), further into the near-IR\n",
      " - *y* (\"well, let's just go alphabetical from here\"), even further, but still just near-IR\n",
      "Here's what (some of) those filter curves look like on the HSC camera: http://www.naoj.org/Observing/Instruments/HSC/fig/wHSC_sdss.gif\n",
      "\n",
      "But there are some things worth noting there:\n",
      " - The reddest filter is \"*Y*\", not \"*y*\".  There's a different, less common filter set that uses capital letters, and HSC is mixing and matching here (also, the *y* filter isn't really that standardized compared to the others).\n",
      " - The filter curve (which is what's in the plot linked above) isn't the only thing that affects the transmission in a particular band: other parts of the system can be wavelength-dependent too, especially the detector sensitivity.  You can find plots for those on the main page here: http://www.naoj.org/Observing/Instruments/HSC/sensitivity.html\n",
      " - There's no *u* filter for HSC.  Why?\n",
      " \n",
      "We often just use the single-letter name of the filter to refer to the magnitude in that filter.\n",
      "\n",
      "Some exercises:\n",
      "\n",
      " - How would you generate the complete transmission curve from the data on the HSC website?  (No code yet - if you get done with exercises later in the day, you can try to write a to do this - but you'll have to learn some new `scipy` tricks on your own.\n",
      "\n",
      " - If we also know the *spectral energy distribution* (SED) of an object - the number of photons per second as a function of wavelength - how would we compute the expected magnitude in a particular band?  Ignore any constant terms that affect all wavelengths equally (i.e. the units).  Once again, we're looking for a mathematical formula, not code (but you can try to write code later when you're done with all the other exercises)."
     ]
    },
    {
     "cell_type": "heading",
     "level": 2,
     "metadata": {},
     "source": [
      "Colors"
     ]
    },
    {
     "cell_type": "markdown",
     "metadata": {},
     "source": [
      "Some of the most important quantities we compute from astronomical images are *colors*, which in astronomy specifically means a difference between magnitudes in different bands.\n",
      "\n",
      " - What is a color in terms of fluxes?\n",
      " \n",
      "Colors give us some information about the spectrum of an object (without having to do spectroscopy, which is more expensive).\n",
      "\n",
      "It's also a lot easier to measure the color of a star or a galaxy than its total flux.\n",
      "\n",
      " - Why?\n",
      " \n",
      "It's very common to make scatter plots of one color against another, e.g. \"g-r vs i-z\".  It's most common to use colors that correspond to adjacent filters, but sometimes other combinations are useful as well.\n",
      "\n",
      "Plotting one color against one magnitude is also quite common, but it's rare to plot multiple magnitudes against each other (even though that can contain the same information as a plot involving colors), because they're almost always harder to interpret than a plot involving the difference of the two magnitudes."
     ]
    }
   ],
   "metadata": {}
  }
 ]
}