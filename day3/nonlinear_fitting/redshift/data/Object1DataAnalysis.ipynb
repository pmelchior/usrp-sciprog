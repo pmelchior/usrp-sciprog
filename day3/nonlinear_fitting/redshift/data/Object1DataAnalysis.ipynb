{
 "cells": [
  {
   "cell_type": "markdown",
   "metadata": {},
   "source": [
    "# Object 1: Jean, Tori, Alex, Mark"
   ]
  },
  {
   "cell_type": "code",
   "execution_count": 2,
   "metadata": {},
   "outputs": [],
   "source": [
    "import numpy as np\n",
    "import matplotlib.pyplot as plt\n",
    "import matplotlib as mpl\n",
    "import astropy.coordinates as coord\n",
    "import astropy.units as u\n",
    "import astropy.constants as const\n",
    "%matplotlib inline"
   ]
  },
  {
   "cell_type": "code",
   "execution_count": 6,
   "metadata": {},
   "outputs": [],
   "source": [
    "data = np.genfromtxt('obj1.data', dtype=None, names=True)\n",
    "ID = data['ID']\n",
    "RA = data['RAJ2000']\n",
    "DEC = data['DECJ2000']\n",
    "Z = data['Z']\n",
    "E_Z = data['E_Z']\n",
    "V = Z*(const.c.to('km/s'))"
   ]
  },
  {
   "cell_type": "code",
   "execution_count": 53,
   "metadata": {},
   "outputs": [
    {
     "data": {
      "text/plain": [
       "(0.0, 0.8)"
      ]
     },
     "execution_count": 53,
     "metadata": {},
     "output_type": "execute_result"
    },
    {
     "data": {
      "image/png": "[encoded data removed]",
      "text/plain": [
       "<Figure size 432x288 with 1 Axes>"
      ]
     },
     "metadata": {
      "needs_background": "light"
     },
     "output_type": "display_data"
    }
   ],
   "source": [
    "z_hist, bins = np.histogram(Z, bins=np.linspace(0,1,50))\n",
    "plt.plot((bins[1:]+bins[:-1])/2., z_hist, c = 'r')\n",
    "plt.xlabel(\"Redshift\")\n",
    "plt.ylabel(\"Frequency\")\n",
    "plt.title(\"Redshift\")\n",
    "plt.xlim(0.0, 0.8)"
   ]
  },
  {
   "cell_type": "code",
   "execution_count": 56,
   "metadata": {},
   "outputs": [],
   "source": [
    "z_mode = bins[np.argmax(vel_hist)]"
   ]
  },
  {
   "cell_type": "code",
   "execution_count": 57,
   "metadata": {},
   "outputs": [
    {
     "data": {
      "text/plain": [
       "<matplotlib.legend.Legend at 0x120467fd0>"
      ]
     },
     "execution_count": 57,
     "metadata": {},
     "output_type": "execute_result"
    },
    {
     "data": {
      "image/png": "[encoded data removed]",
      "text/plain": [
       "<Figure size 432x288 with 1 Axes>"
      ]
     },
     "metadata": {
      "needs_background": "light"
     },
     "output_type": "display_data"
    }
   ],
   "source": [
    "vel_hist, bins = np.histogram(V, bins=np.linspace(0,2.5e5,50))\n",
    "plt.plot((bins[1:]+bins[:-1])/2., vel_hist)\n",
    "plt.xlabel(\"Velocity [km/s]\")\n",
    "plt.ylabel(\"Frequency\")\n",
    "plt.title(\"Velocities\")\n",
    "plt.xlim(5e4, 15e4)\n",
    "plt.axvline(1e5 + 2e4, c= 'r', label = 'Upper Bound')\n",
    "plt.axvline(1e5 - 2e4, c = 'b', label = 'Lower Bound')\n",
    "plt.legend()"
   ]
  },
  {
   "cell_type": "code",
   "execution_count": 67,
   "metadata": {},
   "outputs": [
    {
     "name": "stdout",
     "output_type": "stream",
     "text": [
      "Velocity Dispersion = 6724.32012073595 km / s\n"
     ]
    }
   ],
   "source": [
    "velocity_disp = np.std(V[np.abs(V.value-1e5)<2e4])\n",
    "print('Velocity Dispersion = {}'.format(velocity_disp))"
   ]
  },
  {
   "cell_type": "code",
   "execution_count": 64,
   "metadata": {},
   "outputs": [
    {
     "name": "stdout",
     "output_type": "stream",
     "text": [
      "Angular Size= 0.007575429814877227 rad\n"
     ]
    }
   ],
   "source": [
    "RA_range = (max(RA)-min(RA)) * u.degree\n",
    "DEC_range = (max(DEC)-min(DEC)) * u.degree\n",
    "RA_real = RA_range.to(u.rad)\n",
    "DEC_real = DEC_range.to(u.rad)\n",
    "\n",
    "theta = np.sqrt(RA_real**2 + DEC_real**2)\n",
    "\n",
    "print('Angular Size = {}'.format(theta))"
   ]
  },
  {
   "cell_type": "code",
   "execution_count": 70,
   "metadata": {},
   "outputs": [
    {
     "name": "stdout",
     "output_type": "stream",
     "text": [
      "Distance = 1660.6579306122449 Mpc\n",
      "Actual Size = 24.227752478887794 Mpc\n"
     ]
    }
   ],
   "source": [
    "H_naught = 70 * u.km / u.s / u.Mpc\n",
    "v_mode = z_mode * (const.c.to('km/s'))\n",
    "\n",
    "dist = v_mode / H_naught\n",
    "a = (1+z_mode)**2*theta*(dist) /u.rad\n",
    "\n",
    "print('Distance = {}'.format(dist))\n",
    "print('Actual Size = {}'.format(a))"
   ]
  },
  {
   "cell_type": "code",
   "execution_count": 74,
   "metadata": {},
   "outputs": [
    {
     "name": "stdout",
     "output_type": "stream",
     "text": [
      "Mass = 1.018809151900692e+18 solMass\n"
     ]
    }
   ],
   "source": [
    "mass = 930 * (velocity_disp/(u.km)*(u.s))**2 * (a.to(u.pc)/u.pc) *u.M_sun\n",
    "print('Mass = {}'.format(mass))"
   ]
  },
  {
   "cell_type": "markdown",
   "metadata": {},
   "source": [
    "This mass calculation may be off.  The Wolf et al. paper that we took this equation from implicitly dealt only with galaxies."
   ]
  },
  {
   "cell_type": "markdown",
   "metadata": {},
   "source": [
    "# We believe that this object is a galaxy cluster, based mostly on its velocity dispersion and size."
   ]
  },
  {
   "cell_type": "code",
   "execution_count": null,
   "metadata": {},
   "outputs": [],
   "source": []
  }
 ],
 "metadata": {
  "kernelspec": {
   "display_name": "Python 3",
   "language": "python",
   "name": "python3"
  },
  "language_info": {
   "codemirror_mode": {
    "name": "ipython",
    "version": 3
   },
   "file_extension": ".py",
   "mimetype": "text/x-python",
   "name": "python",
   "nbconvert_exporter": "python",
   "pygments_lexer": "ipython3",
   "version": "3.7.3"
  }
 },
 "nbformat": 4,
 "nbformat_minor": 2
}
