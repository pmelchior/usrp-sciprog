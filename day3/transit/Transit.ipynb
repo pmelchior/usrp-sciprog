{
 "cells": [
  {
   "cell_type": "markdown",
   "metadata": {
    "deletable": true,
    "editable": true
   },
   "source": [
    "# Fit a transiting planet signal with a trapezoid model\n",
    "\n",
    "Now, we'll use the photometry measurements we have just made for something exciting!\n",
    "\n",
    "Monitoring the flux of a star might reveal the presence of a exoplanets when the planet \"transits\" across the front of the start as seen from our perspective. It causes a reduction of the apparent brightness of the star, and conducting large monitoring programs for the [transit method](https://en.wikipedia.org/wiki/Methods_of_detecting_exoplanets#Transit_photometry) has become one of the most successful methods to detect exoplanets.\n",
    "\n",
    "We will use a simple model to describe the transit signal: a symmetric trapezoid. While it is geometrically simple, it is a non-linear model, that means you cannot write down a design matrix for it. So we need a more general minimizer to fit any given data. By the end of this notebook you will have all you need to fit transit data.\n",
    "\n",
    "## Exercise 1\n",
    "\n",
    "Write a function `read_data` that takes the object number (e.g. 7016.01) as an argument and returns two arrays: `time` and `flux`, read from the data file ('data/7016.01.txt')."
   ]
  },
  {
   "cell_type": "code",
   "execution_count": null,
   "metadata": {
    "deletable": true,
    "editable": true
   },
   "outputs": [],
   "source": []
  },
  {
   "cell_type": "markdown",
   "metadata": {
    "deletable": true,
    "editable": true
   },
   "source": [
    "Write a function `plot_data` that takes arrays for time and flux as arguments and plots time vs.\n",
    "flux. Add axis labels. "
   ]
  },
  {
   "cell_type": "code",
   "execution_count": null,
   "metadata": {
    "deletable": true,
    "editable": true
   },
   "outputs": [],
   "source": []
  },
  {
   "cell_type": "markdown",
   "metadata": {
    "deletable": true,
    "editable": true
   },
   "source": [
    "## Exercise 2\n",
    "\n",
    "Write a function `trapezoid` implementing the trapezoid model.  It should take four parameters:\n",
    "\n",
    "* `delta` for the change in flux\n",
    "* `T` for total duration\n",
    "* `tau` for the ingress/egress duration\n",
    "* `t0` for the central event time\n",
    "\n",
    "and a time at which the trapezoid model is evaluated."
   ]
  },
  {
   "cell_type": "code",
   "execution_count": null,
   "metadata": {
    "collapsed": false,
    "deletable": true,
    "editable": true,
    "jupyter": {
     "outputs_hidden": false
    }
   },
   "outputs": [],
   "source": []
  },
  {
   "cell_type": "markdown",
   "metadata": {
    "deletable": true,
    "editable": true
   },
   "source": [
    "To confirm that the model behaves as expected, make four different plots that show how the trapezoid shape changes when you vary each parameter independently (maybe 5 examples per plot)."
   ]
  },
  {
   "cell_type": "code",
   "execution_count": null,
   "metadata": {
    "collapsed": false,
    "deletable": true,
    "editable": true,
    "jupyter": {
     "outputs_hidden": false
    }
   },
   "outputs": [],
   "source": []
  },
  {
   "cell_type": "markdown",
   "metadata": {
    "deletable": true,
    "editable": true
   },
   "source": [
    "## Exercise 3\n",
    "\n",
    "Eyeball the plot of the actual 7016.01 transit signal, and try to guess what parameters might fit the data best.  Overplot the model on top of the data, and make a plot of the residuals (data - model) in a subplot.  Your\n",
    "first guess doesn't have to be spot-on, the residuals should tell you where you're off the most."
   ]
  },
  {
   "cell_type": "code",
   "execution_count": null,
   "metadata": {
    "deletable": true,
    "editable": true
   },
   "outputs": [],
   "source": []
  },
  {
   "cell_type": "markdown",
   "metadata": {
    "deletable": true,
    "editable": true
   },
   "source": [
    "Use your best guess for the parameters to write a function `plot_fit` that takes the time and flux arrays and a parameter vector, and then makes the two plots: one with data and the  model, and another one with the residuals (i.e. data minus model)."
   ]
  },
  {
   "cell_type": "code",
   "execution_count": null,
   "metadata": {
    "deletable": true,
    "editable": true
   },
   "outputs": [],
   "source": []
  },
  {
   "cell_type": "markdown",
   "metadata": {
    "deletable": true,
    "editable": true
   },
   "source": [
    "## Exercise 4\n",
    "\n",
    "Define the function `fit_trapezoid` that uses [scipy.optimize.minimize](http://docs.scipy.org/doc/scipy/reference/generated/scipy.optimize.minimize.html#scipy.optimize.minimize) to find the best-fit parameters for the 7016.01 data set, and display these results using `plot_fit`.\n",
    "\n",
    "The function you want to minimize to find the \"best-fit\" parameters is the one that maximizes the likelihood. Since we're dealing with (assumed) Gaussian errors, this is the usual quadratic error form\n",
    "\n",
    "$$\n",
    "\\chi^2(T,t_0,\\tau,d;\\ \\lbrace (t_i,f_i) \\rbrace) = \\sum_i^N \\frac{\\left(f_i - \\mathtt{trapezoid}(t_i;\\ T,t_0,\\tau,d)\\right)^2}{\\sigma_i^2},\n",
    "$$\n",
    "\n",
    "there $t_i$ and $f_i$ are the individual measurements of time and flux. The standard deviation of the measurements is $\\sigma_i \\approx 80$. \n",
    "\n",
    "Once you have the best-fit parameters, run `plot_fit` to visualize the result."
   ]
  },
  {
   "cell_type": "code",
   "execution_count": null,
   "metadata": {},
   "outputs": [],
   "source": []
  },
  {
   "cell_type": "markdown",
   "metadata": {},
   "source": [
    "With these best-fit parameters, we could now proceed to determine the parameters of the planet, in particular its radius, but also its orbital parameters..."
   ]
  }
 ],
 "metadata": {
  "kernelspec": {
   "display_name": "Python 3",
   "language": "python",
   "name": "python3"
  },
  "language_info": {
   "codemirror_mode": {
    "name": "ipython",
    "version": 3
   },
   "file_extension": ".py",
   "mimetype": "text/x-python",
   "name": "python",
   "nbconvert_exporter": "python",
   "pygments_lexer": "ipython3",
   "version": "3.7.4"
  }
 },
 "nbformat": 4,
 "nbformat_minor": 4
}
